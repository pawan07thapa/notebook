{
 "cells": [
  {
   "cell_type": "code",
   "execution_count": 1,
   "metadata": {
    "collapsed": true
   },
   "outputs": [],
   "source": [
    "def circular(num,pos):\n",
    "    '''\n",
    "    Function for circular shifting of bits.\n",
    "    \n",
    "    Parameters:\n",
    "    num (int): Integer number to be circularly shifted.\n",
    "    pos (int): No. of bits to be circularly shifted.\n",
    "    \n",
    "    Returns:\n",
    "    num (int): Circularly shifted number.\n",
    "    '''\n",
    "    num=num<<pos\n",
    "    rem=num//(2**32)\n",
    "    num=num-rem*(2**32)+rem\n",
    "    return num"
   ]
  },
  {
   "cell_type": "code",
   "execution_count": 2,
   "metadata": {
    "collapsed": true
   },
   "outputs": [],
   "source": [
    "def text2blocks(text):\n",
    "    '''\n",
    "    Creating the hex equivalent of input text string\n",
    "    \n",
    "    Parameters:\n",
    "    text (string): Input text string.\n",
    "        \n",
    "    Returns:\n",
    "    inp (string): Hexadecimal equivalent of string\n",
    "    '''\n",
    "    s=''\n",
    "    for i in text:\n",
    "        s+=hex(ord(i))[2:]\n",
    "    s+='80'\n",
    "    l=hex(len(text)*8)[2:]\n",
    "    l=l.zfill(16)\n",
    "    inp=s+'0'*(128-(len(s)+len(l))%128)+l\n",
    "    return inp"
   ]
  },
  {
   "cell_type": "code",
   "execution_count": 3,
   "metadata": {
    "collapsed": true
   },
   "outputs": [],
   "source": [
    "def initialise_parameters():\n",
    "    '''\n",
    "    Initialises the constants and functions of SHA-1.\n",
    "    \n",
    "    Parameters:\n",
    "    None\n",
    "        \n",
    "    Returns:\n",
    "    h and hprev (list of hexadecimal numbers): Initial value of hash\n",
    "    k (list of hexadecimal number): Constants required for every set of 20 rounds\n",
    "    func (list of functions): Functions required for every set of 20 rounds\n",
    "    '''\n",
    "    h=[0x67452301,0xEFCDAB89,0x98BADCFE,0x10325476,0xC3D2E1F0]\n",
    "    hprev=[0x67452301,0xEFCDAB89,0x98BADCFE,0x10325476,0xC3D2E1F0]\n",
    "    k=[0x5A827999,0x6ED9EBA1,0x8F1BBCDC,0xCA62C1D6]\n",
    "    func=[lambda b,c,d:d^(b&(c^d)),lambda b,c,d:b^c^d,lambda b,c,d:(b&c)|(b&d)|(c&d),lambda b,c,d:b^c^d]\n",
    "    return h,hprev,k,func"
   ]
  },
  {
   "cell_type": "code",
   "execution_count": 4,
   "metadata": {
    "collapsed": true
   },
   "outputs": [],
   "source": [
    "def sha1(text):\n",
    "    '''\n",
    "    Generates SHA-1 hash for a text input\n",
    "    \n",
    "    Parameters:\n",
    "    text (string): Input text string.\n",
    "        \n",
    "    Returns:\n",
    "    result (string): Hexadecimal SHA-1 hash\n",
    "    '''\n",
    "    \n",
    "    # Initialisation of values\n",
    "    h,hprev,k,func=initialise_parameters()\n",
    "\n",
    "    # Function to convert text to hexadecimal content of sha1\n",
    "    inp=text2blocks(text)\n",
    "\n",
    "    # Iterating 1 block at a time.\n",
    "    for block in range(0,len(inp),128):\n",
    "        # Dividing the message block of hexadecimal numbers into 16 words of 32 bits decimal numbers.\n",
    "        word_arr=[]\n",
    "        for byte_no in range(0,128,8):\n",
    "            word_arr.append(int(inp[block+byte_no:block+byte_no+8],base=16))\n",
    "        \n",
    "        # Calculating the weights and updating the hash (h)\n",
    "        weight=[]\n",
    "        for round_no in range(80):\n",
    "            if round_no<16:\n",
    "                weight.append(word_arr[round_no])\n",
    "            else:\n",
    "                weight.append(circular(weight[round_no-16]^weight[round_no-14]^weight[round_no-8]^weight[round_no-3],1))\n",
    "            h=[(h[4]+func[round_no//20](h[1],h[2],h[3])+circular(h[0],5)+weight[round_no]+k[round_no//20])%2**32,\n",
    "               h[0],circular(h[1],30),h[2],h[3]]\n",
    "        for j in range(5):\n",
    "            h[j]=(h[j]+hprev[j])%2**32\n",
    "        hprev=h\n",
    "\n",
    "    # Representing the hash value in hexadecimal\n",
    "    result=''\n",
    "    for i in range(5):\n",
    "        result+=hex(h[i])[2:].zfill(8)\n",
    "    return result"
   ]
  },
  {
   "cell_type": "code",
   "execution_count": 5,
   "metadata": {
    "scrolled": true
   },
   "outputs": [
    {
     "data": {
      "text/plain": [
       "'f601b627ec1cb6c91f5c7b991e4ddb01cc26ce64'"
      ]
     },
     "execution_count": 5,
     "metadata": {},
     "output_type": "execute_result"
    }
   ],
   "source": [
    "sha1('Deepanjan Saha Deepanjan Saha Deepanjan Saha Deepanjan Saha Deepanjan Saha')"
   ]
  },
  {
   "cell_type": "code",
   "execution_count": 12,
   "metadata": {},
   "outputs": [
    {
     "name": "stdout",
     "output_type": "stream",
     "text": [
      "inside copy\n"
     ]
    }
   ],
   "source": [
    "from tkinter import filedialog\n",
    "from tkinter import *\n",
    "import os\n",
    "\n",
    "class window(Frame):\n",
    "    def __init__(self,master=None):\n",
    "        Frame.__init__(self,master)\n",
    "        self.master=master\n",
    "        self.data_string=StringVar()\n",
    "        self.viewtype=StringVar()\n",
    "        self.selected=StringVar()\n",
    "        self.content=StringVar()\n",
    "        self.output_hash=StringVar()\n",
    "        self.filename=''\n",
    "        self.hash_value=''\n",
    "        self.paraLabel={'master':self.master,'bg':'#000000','fg':'#ffffff','font':\"Helvetica 13 bold italic\"}\n",
    "        \n",
    "    def main_page(self):\n",
    "        self.master.geometry(\"550x400\")\n",
    "        self.master.configure(background=\"black\")\n",
    "        \n",
    "        label_text=Label(**self.paraLabel,text=\"Enter text here\")\n",
    "        label_text.place(x=50,y=50)\n",
    "        \n",
    "        input_text=Entry(self.master,textvariable=self.data_string)\n",
    "        input_text.place(x=180,y=50)\n",
    "        \n",
    "        file_text=Label(**self.paraLabel,text=\"Browse for file\")\n",
    "        file_text.place(x=50,y=80)\n",
    "        \n",
    "        Browse_button=Button(self.master,text=\"Browse\",command=self.get_file)\n",
    "        Browse_button.place(x=180,y=80)\n",
    "        \n",
    "        selected_file=Label(**self.paraLabel,textvariable=self.selected)\n",
    "        selected_file.place(x=50,y=110)\n",
    "        \n",
    "        hash_button=Button(self.master,text=\"Generate Hash\",command=self.sha1_generator)\n",
    "        hash_button.place(x=250,y=140)\n",
    "\n",
    "        view_type=Label(**self.paraLabel,textvariable=self.viewtype)\n",
    "        view_type.place(x=50,y=200)\n",
    "        \n",
    "        content=Label(**self.paraLabel,textvariable=self.content)\n",
    "        content.place(x=50,y=240)\n",
    "        \n",
    "        hash_value=Label(**self.paraLabel,textvariable=self.output_hash)\n",
    "        hash_value.place(x=50,y=280)\n",
    "        \n",
    "        clear=Button(self.master,text=\"Clear Result\",command=self.clear)\n",
    "        clear.place(x=50,y=340)\n",
    "        \n",
    "        hash_value=Button(self.master,text=\"copy Hash\",command=self.copy)\n",
    "        hash_value.place(x=150,y=340)\n",
    "        \n",
    "    def copy(self):\n",
    "        print('inside copy')\n",
    "        self.master.clipboard_clear()\n",
    "        self.master.clipboard_append(self.hash_value)\n",
    "        self.master.update()\n",
    "        \n",
    "    def clear(self):\n",
    "        self.viewtype.set('')\n",
    "        self.content.set('')\n",
    "        self.output_hash.set('')\n",
    "\n",
    "    def get_file(self):\n",
    "        self.data_string.set('')\n",
    "        self.filename =  filedialog.askopenfilename(initialdir = os.getcwd(),title = \"Select file\",\n",
    "                                               filetypes = ((\"PDF files\",\"*.pdf\"),(\"jpeg files\",\"*.jpg\"),\n",
    "                                                            (\"all files\",\"*.*\")))\n",
    "        file_name=self.filename.rpartition('/')[2]\n",
    "        if len(file_name)>50:\n",
    "            self.selected.set('Selected file: {}...'.format(file_name[:50]))\n",
    "        else:\n",
    "            self.selected.set('Selected file: {}'.format(file_name))\n",
    "        \n",
    "    def sha1_generator(self):\n",
    "        if len(self.data_string.get())==0 and len(self.filename)==0:\n",
    "            return\n",
    "        elif len(self.filename)!=0:\n",
    "            print(self.filename)\n",
    "            data,self.filename=self.filename,''\n",
    "            file=open(data,'rb')\n",
    "            data=str(file.read())\n",
    "            file.close()\n",
    "            self.viewtype.set('TYPE:    FILE')\n",
    "        else:\n",
    "            data=self.data_string.get()\n",
    "            self.data_string.set('')\n",
    "            self.viewtype.set('TYPE:    TEXT')\n",
    "        self.hash_value=sha1(data)\n",
    "        if len(data)>50:\n",
    "            self.content.set('CONTENT:    {}...'.format(data[:40]))\n",
    "        else:\n",
    "            self.content.set('CONTENT:    {}'.format(data))\n",
    "        self.output_hash.set('HASH:    {}'.format(self.hash_value))\n",
    "        \n",
    "        \n",
    "root = Tk()\n",
    "app=window(root)\n",
    "app.main_page()\n",
    "root.mainloop()"
   ]
  },
  {
   "cell_type": "code",
   "execution_count": null,
   "metadata": {
    "collapsed": true
   },
   "outputs": [],
   "source": []
  }
 ],
 "metadata": {
  "kernelspec": {
   "display_name": "Python 3",
   "language": "python",
   "name": "python3"
  },
  "language_info": {
   "codemirror_mode": {
    "name": "ipython",
    "version": 3
   },
   "file_extension": ".py",
   "mimetype": "text/x-python",
   "name": "python",
   "nbconvert_exporter": "python",
   "pygments_lexer": "ipython3",
   "version": "3.6.1"
  }
 },
 "nbformat": 4,
 "nbformat_minor": 2
}
