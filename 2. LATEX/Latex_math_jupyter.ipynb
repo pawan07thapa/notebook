{
 "cells": [
  {
   "cell_type": "markdown",
   "metadata": {},
   "source": [
    "# Introduction to Latex in Jupyter notebook"
   ]
  },
  {
   "cell_type": "markdown",
   "metadata": {},
   "source": [
    "## Table of content"
   ]
  },
  {
   "cell_type": "markdown",
   "metadata": {},
   "source": [
    "* [1. What is LATEX?](#1.-What-is-LATEX?)\n",
    "* [2. LATEX Math](#2.-LATEX-Math)\n",
    "  * [2.1 Inserting Equations](#2.1-Inserting-Equations)\n",
    "    * [ 2.1.1 In-line math equation](#2.1.1-In-line-math-equation)\n",
    "    * [2.1.2 Separate line math equation](#2.1.2-Separate-line-math-equation)\n",
    "    * [2.1.3 Multiple equations](#2.1.3-Multiple-equations)\n",
    "  * [2.2 Inserting \"Displayed\" maths inside blocks of text](#2.2-Inserting-\"Displayed\"-maths-inside-blocks-of-text)\n",
    "  * [2.3 Some Tips and Tricks](#2.3-Some-Tips-and-Tricks)\n",
    "  * [2.4 Mathematical symbols](#2.4-Mathematical-symbols)\n",
    "  * [2.5 Matrices](#2.5-Matrices)\n",
    "  * [2.6 Adding text to equations](#2.6-Adding-text-to-equations)\n",
    "  * [2.7 Reference Links](#2.7-Reference-Links)"
   ]
  },
  {
   "cell_type": "markdown",
   "metadata": {},
   "source": [
    "## 1. What is LATEX?"
   ]
  },
  {
   "cell_type": "markdown",
   "metadata": {},
   "source": [
    "**LATEX (pronounced lay-tek ) is a document preparation system** for producing\n",
    "professional-looking documents, it is not a word processor. It is **particularly\n",
    "suited to producing long, structured documents, and is very good at typesetting\n",
    "equations.**"
   ]
  },
  {
   "cell_type": "markdown",
   "metadata": {},
   "source": [
    "## 2. LATEX Math"
   ]
  },
  {
   "cell_type": "markdown",
   "metadata": {},
   "source": [
    "One of the main reasons for writing documents in LATEX is because it is really\n",
    "good at typesetting equations. Equations are written in `math mode`."
   ]
  },
  {
   "cell_type": "markdown",
   "metadata": {},
   "source": [
    "## 2.1 Inserting Equations"
   ]
  },
  {
   "cell_type": "markdown",
   "metadata": {},
   "source": [
    "### 2.1.1 In-line math equation"
   ]
  },
  {
   "cell_type": "markdown",
   "metadata": {},
   "source": [
    "You can enter math mode with an opening and closing dollar sign \\$. This\n",
    "can be used to write mathematical symbols within a sentence. For example,\n",
    "to produces $1 + 2 = 3$ inside the line we type \\$ 1 + 2 = 3 \\$."
   ]
  },
  {
   "cell_type": "markdown",
   "metadata": {},
   "source": [
    "### 2.1.2 Separate line math equation"
   ]
  },
  {
   "cell_type": "markdown",
   "metadata": {},
   "source": [
    "If you want to display equation on its own line use `$$...$$`.  \n",
    "For example, $$1+2=3$$"
   ]
  },
  {
   "cell_type": "markdown",
   "metadata": {},
   "source": [
    "### 2.1.3 Multiple equations"
   ]
  },
  {
   "cell_type": "markdown",
   "metadata": {},
   "source": [
    "Use `\\begin{eqnarray}...\\end{eqnarray}` to write equation arrays for a\n",
    "series of equations/inequalities. Also `&` is used to align the various equations. For example -\n",
    "\\begin{eqnarray}\n",
    "a & = & b + c \\\\\n",
    "& = & y - z\n",
    "\\end{eqnarray}\n",
    "\n",
    "For unnumbered equations add the star symbol \\* after the equation or\n",
    "eqnarray command (i.e. use `{equation*}` or `{eqnarray*}`)."
   ]
  },
  {
   "cell_type": "markdown",
   "metadata": {},
   "source": [
    "## 2.2 Inserting \"Displayed\" maths inside blocks of text"
   ]
  },
  {
   "cell_type": "markdown",
   "metadata": {},
   "source": [
    "In order for some operators, such as `\\lim` or `\\sum` to be displayed correctly inside math environments `($......$)`, it might be convenient to write the `\\displaystyle` class inside the environment. **Doing so might cause the line to be taller, but will cause exponents and indices to be displayed correctly for some math operators.** For example,   `$\\sum$` will print a smaller $\\sum$  \n",
    "`$\\displaystyle \\sum$` will print a bigger $\\displaystyle \\sum$.  "
   ]
  },
  {
   "cell_type": "markdown",
   "metadata": {},
   "source": [
    "## 2.3 Some Tips and Tricks"
   ]
  },
  {
   "cell_type": "markdown",
   "metadata": {},
   "source": [
    "1. Mathematics has many symbols! There is a set of symbols that can be accessed directly from the keyboard: \n",
    "  `+ - = ! / ( ) [ ] < > | ' : *`\n",
    "2. Greek letters are commonly used in mathematics, and they are very easy to type in math mode. You just have to type the name of the letter after a backslash: if the first letter is lowercase, you will get a lowercase Greek letter, if the first letter is uppercase (and only the first letter), then you will get an uppercase letter.\n",
    "3. An operator is a function that is written as a word: e.g. trigonometric functions (sin, cos, tan), logarithms and exponentials (log, exp), limits (lim).\n",
    "4. Powers and indices are equivalent to superscripts and subscripts in normal text mode. The caret (^ also known as the circumflex accent) character is used to raise something, and the underscore (\\_) is for lowering. If more than one expression is raised or lowered, they should be grouped using curly braces ({ and }). \n",
    "5. A fraction is created using the `\\frac{numerator}{denominator}` command.\n",
    "6. If fractions are used as an exponent curly braces have to be used around the `\\sfrac` command. For example: `$x^{\\sfrac{1}{2}}$` has no error.\n",
    "7. Continued fractions should be written using `\\cfrac` command.\n",
    "8. The `\\sqrt` command creates a square root surrounding an expression. It accepts an optional argument specified in square brackets ([ and ]) to change magnitude.\n",
    "9. The `\\sum` and `\\int` commands insert the sum and integral symbols respectively, with **limits specified using the caret (^) and underscore (\\_).**\n",
    "10. The limits for the integrals follow the same notation. It's also important to represent the integration variables with an upright d, which in math mode is obtained through the `\\mathrm{}` command, and with a small space separating it from the integrand, which is attained with the `\\,` command.\n",
    "11. If you want the limits of an integral to be specified above and below the symbol (like the sum), use the `\\limits` command.\n",
    "12. Very often mathematical features will differ in size, in which case the delimiters surrounding the expression should vary accordingly. This can be done automatically using the `\\left`, `\\right`, and `\\middle` commands. Any of the previous delimiters may be used in combination."
   ]
  },
  {
   "cell_type": "markdown",
   "metadata": {},
   "source": [
    "## 2.4 Mathematical symbols"
   ]
  },
  {
   "cell_type": "markdown",
   "metadata": {},
   "source": [
    "LATEX code |Symbol   \n",
    ":-:|:-:\n",
    "`\\forall`| $\\forall$\n",
    "`\\in` | $\\in$\n",
    "`\\exists` | $\\exists$\n",
    "`\\leq` | $\\leq$\n",
    "`\\geq` | $\\geq$\n",
    "`\\epsilon` | $\\epsilon$\n",
    "`\\bar{x}` | $\\bar{x}$\n",
    "`\\times` | $\\times$\n",
    "`\\hat{a}` | $\\hat{a}$\n",
    "`\\vec{a}` | $\\vec{a}$\n",
    "`a'` | $a'$\n",
    "`a''` | $a''$\n",
    "`a'''` | $a'''$\n",
    "`\\pm` | $\\pm$\n",
    "`\\mp` | $\\mp$\n",
    "`\\ll` | $\\ll$\n",
    "`\\gg` | $\\gg$\n",
    "`\\subset` | $\\subset$\n",
    "`\\subseteq` | $\\subseteq$\n",
    "`\\equiv` | $\\equiv$\n",
    "`\\neq` | $\\neq$\n",
    "`\\approx` | $\\approx$\n",
    "`\\cong` | $\\cong$\n",
    "`\\sim` | $\\sim$\n",
    "`\\propto` | $\\propto$\n",
    "`\\parallel` | $\\parallel$\n",
    "`\\perp` | $\\perp$\n",
    "`\\div` | $\\div$\n",
    "`\\forall x \\in X, \\exists y \\leq \\epsilon` | $\\forall x \\in X, \\quad \\exists y \\leq \\epsilon$\n",
    "`\\alpha` | $\\alpha$\n",
    "`\\beta` | $\\beta$\n",
    "`\\gamma` | $\\gamma$\n",
    "`\\Gamma` | $\\Gamma$\n",
    "`\\delta` | $\\delta$\n",
    "`\\Delta` | $\\Delta$\n",
    "`\\sigma` | $\\sigma$\n",
    "`\\Sigma` | $\\Sigma$\n",
    "`\\pi` | $\\pi$\n",
    "`\\Pi` | $\\Pi$\n",
    "`\\phi` | $\\phi$\n",
    "`\\Phi` | $\\Phi$\n",
    "`\\psi` | $\\psi$\n",
    "`\\Psi` | $\\Psi$\n",
    "`\\omega` | $\\omega$\n",
    "`\\Omega` | $\\Omega$\n",
    "`\\varphi` | $\\varphi$\n",
    "`\\mu` | $\\mu$\n",
    "`\\cos` | $\\cos$\n",
    "`\\sin` | $\\sin$\n",
    "`\\tan` | $\\tan$\n",
    "`\\cot` | $\\cot$\n",
    "`\\arcsin` | $\\arcsin$\n",
    "`\\arccos` | $\\arccos$\n",
    "`\\arctan` | $\\arctan$\n",
    "`\u0007rccot` | $\u0007rccot$\n",
    "`\\sinh` | $\\sinh$\n",
    "`\\cosh` | $\\cosh$\n",
    "`\\tanh` | $\\tanh$\n",
    "`\\coth` | $\\coth$\n",
    "`\\theta` | $\\theta$\n",
    "`\\Theta` | $\\Theta$\n",
    "`\\cos (2\\theta) = \\cos^2 \\theta - \\sin^2 \\theta` | $\\cos (2\\theta) = \\cos^2 \\theta - \\sin^2 \\theta$\n",
    "`\\lim` | $\\lim$\n",
    "`\\to` | $\\to$\n",
    "`\\infty` | $\\infty$\n",
    "`\\exp` | $\\exp$\n",
    "`\\lim_{x \\to a} f(x)` | $\\lim_{x \\to a} f(x)$\n",
    "`\\lim\\limits_{x \\to \\infty} \\exp(-x) = 0` | $\\lim\\limits_{x \\to \\infty} \\exp(-x) = 0$\n",
    "`a \\bmod b` | $a \\bmod b$\n",
    "`x \\equiv a \\pmod{b}` | $x \\equiv a \\pmod{b}$\n",
    "`k_{n+1} = n^2 + k_n^2 - k_{n-1}` | $k_{n+1} = n^2 + k_n^2 - k_{n-1}$\n",
    "`n^{22}` | $n^{22}$\n",
    "`f(n) = n^5 + 4n^2 + 2 \\_{n=17}` | $f(n) = n^5 + 4n^2 + 2 |_{n=17}$\n",
    "`^1/_3` | $^1/_3$\n",
    "`\\frac{1}{3}` | $\\frac{1}{3}$\n",
    "`\\frac{n!}{k!(n-k)!} =\\binom{n}{k}` | $\\frac{n!}{k!(n-k)!} =\\binom{n}{k}$\n",
    "`x^\\frac{1}{2}` | $x^\\frac{1}{2}$\n",
    "```\\begin{equation}\n",
    "  x = a_0 + \\cfrac{1}{a_1 \n",
    "          + \\cfrac{1}{a_2 \n",
    "          + \\cfrac{1}{a_3 + \\cfrac{1}{a_4} } } }\n",
    "\\end{equation}``` | \\begin{equation}\n",
    "  x = a_0 + \\cfrac{1}{a_1 \n",
    "          + \\cfrac{1}{a_2 \n",
    "          + \\cfrac{1}{a_3 + \\cfrac{1}{a_4} } } }\n",
    "\\end{equation}\n",
    "`\\dots` | $\\dots$\n",
    "`\\sqrt{5}` | $\\sqrt{5}$\n",
    "`\\sqrt{\\frac{a}{b}}` | $\\sqrt{\\frac{a}{b}}$\n",
    "`\\sqrt[n]{1+x+x^2+x^3+\\dots+x^n}` | $\\sqrt[n]{1+x+x^2+x^3+\\dots+x^n}$\n",
    "`\\sqrt[a]{b}` | $\\sqrt[a]{b}$\n",
    "`\\sum_{i=1}^{10} t_i` | $\\sum_{i=1}^{10} t_i$\n",
    "`\\displaystyle \\sum_{i=1}^{10} t_i` | $\\displaystyle \\sum_{i=1}^{10} t_i$\n",
    "`\\int_0^\\infty \\mathrm{e}^{-x}\\,\\mathrm{d}x` | $\\int_0^\\infty \\mathrm{e}^{-x}\\,\\mathrm{d}x$\n",
    "`\\mathrm{b}` | $\\mathrm{b}$\n",
    "`b' | $b$\n",
    "`\\prod` | $\\prod$\n",
    "`\\bigoplus` | $\\bigoplus$\n",
    "`\\bigotimes` | $\\bigotimes$\n",
    "`\\bigodot` | $\\bigodot$\n",
    "`\\bigvee` | $\\bigvee$\n",
    "`\\bigwedge` | $\\bigwedge$\n",
    "`\\int` | $\\int$\n",
    "`\\oint` | $\\oint$\n",
    "`\\iint` | $\\iint$\n",
    "`\\iiint` | $\\iiint$\n",
    "`\\iiiint` | $\\iiiint$\n",
    "`\\idotsint` | $\\idotsint$\n",
    "`\\int\\limits_a^b` | $\\int\\limits_a^b$\n",
    "`\\left(\\frac{x^2}{y^3}\\right)` | $\\left(\\frac{x^2}{y^3}\\right)$\n",
    "`\\left\\{\\frac{x^2}{y^3}\\right\\}` | $\\left\\{\\frac{x^2}{y^3}\\right\\}$\n",
    "\n"
   ]
  },
  {
   "cell_type": "markdown",
   "metadata": {},
   "source": [
    "## 2.5 Matrices"
   ]
  },
  {
   "cell_type": "markdown",
   "metadata": {},
   "source": [
    "To create matrix **without braces**, we include the matrix inside `\\begin(matrix)....\\end(matrix)`. For example:\n",
    "\\begin{matrix}\n",
    "a + b + c & uv & x - y & 27\\\\\n",
    "a + b & u + v & z & 134\n",
    "\\end{matrix}\n",
    "\n",
    "To create matrix **within parentheses**, we include the matrix inside `\\begin(pmatrix)....\\end(pmatrix)`. For example:\n",
    "\\begin{pmatrix}\n",
    "a + b + c & uv & x - y & 27\\\\\n",
    "a + b & u + v & z & 134\n",
    "\\end{pmatrix}\n",
    "\n",
    "To create matrix **within square braces**, we include the matrix inside `\\begin(bmatrix)....\\end(bmatrix)`. For example:\n",
    "\\begin{bmatrix}\n",
    "a + b + c & uv & x - y & 27\\\\\n",
    "a + b & u + v & z & 134\n",
    "\\end{bmatrix}"
   ]
  },
  {
   "cell_type": "markdown",
   "metadata": {},
   "source": [
    "## 2.6 Adding text to equations"
   ]
  },
  {
   "cell_type": "markdown",
   "metadata": {},
   "source": [
    "The math environment differs from the text environment in the representation of text. The typical way is to wrap the text with the `\\text{...}` command. For example:  \n",
    "$$ 5 \\text{ meter} \\times 10 \\text{ meter} = 50 \\text{ meter}^2 $$"
   ]
  },
  {
   "cell_type": "markdown",
   "metadata": {},
   "source": [
    "## 2.7 Reference Links"
   ]
  },
  {
   "cell_type": "markdown",
   "metadata": {},
   "source": [
    "[Link to wikibook for LATEX](https://en.wikibooks.org/wiki/LaTeX/Mathematics)"
   ]
  },
  {
   "cell_type": "markdown",
   "metadata": {},
   "source": [
    "$$\n",
    "p_n = \\frac{\\text{number of pixels with intensity n}}{\\text{total number of pixels}}\\;\\;\\;\\;\\text{n= 0,1,2,...,L-1}\n",
    "$$"
   ]
  },
  {
   "cell_type": "markdown",
   "metadata": {},
   "source": [
    "$$\n",
    "g_{i,j}=floor((L-1)\\sum_{n=0}^{f_{i,j}}p_{n})\n",
    "$$"
   ]
  },
  {
   "cell_type": "markdown",
   "metadata": {},
   "source": [
    "$$\n",
    "D=\\sqrt{\\sum_{i=1}^{n}(hist1_i - hist2_i)^2}\n",
    "$$"
   ]
  },
  {
   "cell_type": "markdown",
   "metadata": {},
   "source": [
    "$$\n",
    "ii(x,y) = \\sum_{x' \\leq x, y' \\leq y}i(x',y')\n",
    "$$"
   ]
  },
  {
   "cell_type": "code",
   "execution_count": null,
   "metadata": {
    "collapsed": true
   },
   "outputs": [],
   "source": []
  }
 ],
 "metadata": {
  "kernelspec": {
   "display_name": "Python 3",
   "language": "python",
   "name": "python3"
  },
  "language_info": {
   "codemirror_mode": {
    "name": "ipython",
    "version": 3
   },
   "file_extension": ".py",
   "mimetype": "text/x-python",
   "name": "python",
   "nbconvert_exporter": "python",
   "pygments_lexer": "ipython3",
   "version": "3.6.1"
  }
 },
 "nbformat": 4,
 "nbformat_minor": 2
}
