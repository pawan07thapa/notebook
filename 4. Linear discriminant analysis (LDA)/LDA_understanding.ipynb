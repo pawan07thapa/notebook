{
 "cells": [
  {
   "cell_type": "markdown",
   "metadata": {},
   "source": [
    "# Linear Discriminant Analysis (LDA)"
   ]
  },
  {
   "cell_type": "markdown",
   "metadata": {},
   "source": [
    "# Table of content"
   ]
  },
  {
   "cell_type": "markdown",
   "metadata": {},
   "source": [
    "* [1. Introduction](#1.-Introduction)\n",
    "* [2. What is a “good” feature subspace?](#2.-What-is-a-“good”-feature-subspace?)\n",
    "* [3. Summarizing the LDA approach in 5 steps](#3.-Summarizing-the-LDA-approach-in-5-steps)\n",
    "* [4. Preparing the sample data set](#4.-Preparing-the-sample-data-set)\n",
    "* [5. Histograms and feature selection](#5.-Histograms-and-feature-selection)\n",
    "* [6. Normality assumptions](#6.-Normality-assumptions)\n",
    "* [7. LDA in 5 steps](#7.-LDA-in-5-steps)\n",
    "  * [Step 1: Computing the d-dimensional mean vectors](#Step-1:-Computing-the-d-dimensional-mean-vectors)\n",
    "  * [Step 2: Computing the Scatter Matrices](#Step-2:-Computing-the-Scatter-Matrices)\n",
    "    * [Within-class scatter matrix](#Within-class-scatter-matrix-$S_w$)\n",
    "    * [Between-class scatter matrix](#Between-class-scatter-matrix-$S_b$)\n",
    "  * [Step 3: Solving the generalized eigenvalue problem](#Step-3:-Solving-the-generalized-eigenvalue-problem-for-the-matrix-$S_w^{−1}S_b$)\n",
    "  * [Step 4: Selecting linear discriminants for the new feature subspace](#Step-4:-Selecting-linear-discriminants-for-the-new-feature-subspace)\n",
    "  * [Step 5: Transforming the samples onto the new subspace](#Step-5:-Transforming-the-samples-onto-the-new-subspace)\n",
    "* [8. Feature scaling in LDA](#8.-Feature-scaling-in-LDA) \n",
    "* [9. References](#9.-References)"
   ]
  },
  {
   "cell_type": "markdown",
   "metadata": {},
   "source": [
    "# 1. Introduction"
   ]
  },
  {
   "cell_type": "markdown",
   "metadata": {},
   "source": [
    "**Linear Discriminant Analysis (LDA) is most commonly used as dimensionality reduction technique** in the pre-processing step for pattern-classification and machine learning applications. The goal is to project a dataset onto a lower-dimensional space **with good class-separability in order avoid overfitting** (“curse of dimensionality”) and also reduce computational costs.\n",
    "\n",
    "The general LDA approach is very similar to a Principal Component Analysis, but in addition to finding the component axes that maximize the variance of our data (PCA), **we are additionally interested in the axes that maximize the separation between multiple classes (LDA).**\n",
    "\n",
    "So, in a nutshell, often the goal of an LDA is to project a feature space (a dataset n-dimensional samples) onto a smaller subspace k (where $k \\leq n−1$) while maintaining the class-discriminatory information.\n",
    "\n",
    "**PCA can be described as an “unsupervised” algorithm, since it \"ignores” class labels** and its goal is to find the directions (the so-called principal components) that maximize the variance in a dataset. In contrast to PCA, **LDA is “supervised”** and computes the directions (“linear discriminants”) that will represent the axes that that maximize the separation between multiple classes.\n",
    "\n",
    "![pca_vs_lda](pca_vs_lda.png)"
   ]
  },
  {
   "cell_type": "markdown",
   "metadata": {},
   "source": [
    "# 2. What is a “good” feature subspace?"
   ]
  },
  {
   "cell_type": "markdown",
   "metadata": {},
   "source": [
    "Later, we will compute eigenvectors from our data set and collect them in a so-called scatter-matrices (i.e., the in-between-class scatter matrix and within-class scatter matrix). Each of these eigenvectors is associated with an eigenvalue, which tells us about the “length” or “magnitude” of the eigenvectors.\n",
    "\n",
    "**If we would observe that all eigenvalues have a similar magnitude, then this may be a good indicator that our data is already projected on a “good” feature space.**\n",
    "\n",
    "And in the other scenario, **if some of the eigenvalues are much much larger than others, we might be interested in keeping only those eigenvectors with the highest eigenvalues, since they contain more information about our data distribution. Vice versa, eigenvalues that are close to 0 are less informative and we might consider dropping those for constructing the new feature subspace.**"
   ]
  },
  {
   "cell_type": "markdown",
   "metadata": {},
   "source": [
    "# 3. Summarizing the LDA approach in 5 steps"
   ]
  },
  {
   "cell_type": "markdown",
   "metadata": {},
   "source": [
    "Listed below are the 5 general steps for performing a linear discriminant analysis; we will explore them in more detail in the following sections.\n",
    "\n",
    "1. Compute the $d$-dimensional mean vectors for the different classes from the dataset.\n",
    "1. Compute the scatter matrices (in-between-class and within-class scatter matrix).\n",
    "1. Compute the eigenvectors $(e_1,e_2,\\dots,e_d)$ and corresponding eigenvalues $(\\lambda_1,\\lambda_2,...,\\lambda_d)$ for the scatter matrices.\n",
    "1. Sort the eigenvectors by decreasing eigenvalues and choose $k$ eigenvectors with the largest eigenvalues to form a $d \\times k$ dimensional matrix $W$ (where every column represents an eigenvector).\n",
    "1. Use this $d \\times k$ eigenvector matrix to transform the samples onto the new subspace. This can be summarized by the matrix multiplication: $Y=X \\times W$ (where X is a $n \\times d$-dimensional matrix representing the $n$ samples, and $y$ are the transformed $n \\times k$-dimensional samples in the new subspace)."
   ]
  },
  {
   "cell_type": "markdown",
   "metadata": {},
   "source": [
    "# 4. Preparing the sample data set"
   ]
  },
  {
   "cell_type": "markdown",
   "metadata": {},
   "source": [
    "We are using the **Iris dataset** for implementing LDA."
   ]
  },
  {
   "cell_type": "code",
   "execution_count": 2,
   "metadata": {},
   "outputs": [
    {
     "data": {
      "text/html": [
       "<div>\n",
       "<style>\n",
       "    .dataframe thead tr:only-child th {\n",
       "        text-align: right;\n",
       "    }\n",
       "\n",
       "    .dataframe thead th {\n",
       "        text-align: left;\n",
       "    }\n",
       "\n",
       "    .dataframe tbody tr th {\n",
       "        vertical-align: top;\n",
       "    }\n",
       "</style>\n",
       "<table border=\"1\" class=\"dataframe\">\n",
       "  <thead>\n",
       "    <tr style=\"text-align: right;\">\n",
       "      <th></th>\n",
       "      <th>0</th>\n",
       "      <th>1</th>\n",
       "      <th>2</th>\n",
       "      <th>3</th>\n",
       "      <th>4</th>\n",
       "    </tr>\n",
       "  </thead>\n",
       "  <tbody>\n",
       "    <tr>\n",
       "      <th>0</th>\n",
       "      <td>5.1</td>\n",
       "      <td>3.5</td>\n",
       "      <td>1.4</td>\n",
       "      <td>0.2</td>\n",
       "      <td>Iris-setosa</td>\n",
       "    </tr>\n",
       "    <tr>\n",
       "      <th>1</th>\n",
       "      <td>4.9</td>\n",
       "      <td>3.0</td>\n",
       "      <td>1.4</td>\n",
       "      <td>0.2</td>\n",
       "      <td>Iris-setosa</td>\n",
       "    </tr>\n",
       "    <tr>\n",
       "      <th>2</th>\n",
       "      <td>4.7</td>\n",
       "      <td>3.2</td>\n",
       "      <td>1.3</td>\n",
       "      <td>0.2</td>\n",
       "      <td>Iris-setosa</td>\n",
       "    </tr>\n",
       "    <tr>\n",
       "      <th>3</th>\n",
       "      <td>4.6</td>\n",
       "      <td>3.1</td>\n",
       "      <td>1.5</td>\n",
       "      <td>0.2</td>\n",
       "      <td>Iris-setosa</td>\n",
       "    </tr>\n",
       "    <tr>\n",
       "      <th>4</th>\n",
       "      <td>5.0</td>\n",
       "      <td>3.6</td>\n",
       "      <td>1.4</td>\n",
       "      <td>0.2</td>\n",
       "      <td>Iris-setosa</td>\n",
       "    </tr>\n",
       "  </tbody>\n",
       "</table>\n",
       "</div>"
      ],
      "text/plain": [
       "     0    1    2    3            4\n",
       "0  5.1  3.5  1.4  0.2  Iris-setosa\n",
       "1  4.9  3.0  1.4  0.2  Iris-setosa\n",
       "2  4.7  3.2  1.3  0.2  Iris-setosa\n",
       "3  4.6  3.1  1.5  0.2  Iris-setosa\n",
       "4  5.0  3.6  1.4  0.2  Iris-setosa"
      ]
     },
     "execution_count": 2,
     "metadata": {},
     "output_type": "execute_result"
    }
   ],
   "source": [
    "import numpy as np\n",
    "import pandas as pd\n",
    "import matplotlib.pyplot as plt\n",
    "\n",
    "# Reading the file\n",
    "df=pd.read_csv(\"iris_data.csv\",names=[i for i in range(5)])\n",
    "# m = no. of samples\n",
    "# n = np. of features\n",
    "m,n=df.shape\n",
    "n-=1\n",
    "# 'x' stores the numpy values of features\n",
    "x=df[[0,1,2,3]].values\n",
    "# 'y' stores the numpy values of labels\n",
    "label_map={ind:val for ind,val in zip(range(3),df[n].unique())}\n",
    "y=np.zeros((m,1),dtype=np.uint8)\n",
    "for ind,val in label_map.items():\n",
    "    y[df[n]==val]=ind\n",
    "# Displaying the dataset\n",
    "df.head()"
   ]
  },
  {
   "cell_type": "markdown",
   "metadata": {},
   "source": [
    "# 5. Histograms and feature selection"
   ]
  },
  {
   "cell_type": "markdown",
   "metadata": {},
   "source": [
    "Just to get a rough idea how the samples of our 3 classes are distributed, let us visualize the distributions of the four different features in 1-dimensional histograms."
   ]
  },
  {
   "cell_type": "code",
   "execution_count": 3,
   "metadata": {},
   "outputs": [
    {
     "data": {
      "image/png": "[encoded data removed]",
      "text/plain": [
       "<matplotlib.figure.Figure at 0x819801e128>"
      ]
     },
     "metadata": {},
     "output_type": "display_data"
    }
   ],
   "source": [
    "colours={0:'r',1:'g',2:'b'}\n",
    "for i in range(4):\n",
    "    plt.subplot(2,2,i+1)\n",
    "    min_val=x[:,i].min()\n",
    "    max_val=x[:,i].max()\n",
    "    bins=np.linspace(min_val,max_val,25)\n",
    "    for ind,val in colours.items():\n",
    "        data=np.where(y==ind)[0]\n",
    "        plt.hist(x[data,i],bins,color=val,alpha=0.5,label=label_map[ind])\n",
    "plt.legend()\n",
    "plt.show()"
   ]
  },
  {
   "cell_type": "markdown",
   "metadata": {},
   "source": [
    "From just looking at these simple graphical representations of the features, we can already tell that feature 3 and 4 are likely better suited as potential features two separate between the three flower classes. In practice, instead of reducing the dimensionality via a projection (here: LDA), **a good alternative would be a feature selection technique.** For low-dimensional datasets like Iris, a glance at those histograms would already be very informative"
   ]
  },
  {
   "cell_type": "markdown",
   "metadata": {},
   "source": [
    "# 6. Normality assumptions"
   ]
  },
  {
   "cell_type": "markdown",
   "metadata": {},
   "source": [
    "It should be mentioned that LDA assumes normal distributed data, features that are statistically independent, and identical covariance matrices for every class. However, **this only applies for LDA as classifier and LDA for dimensionality reduction can also work reasonably well if those assumptions are violated.**"
   ]
  },
  {
   "cell_type": "markdown",
   "metadata": {},
   "source": [
    "# 7. LDA in 5 steps"
   ]
  },
  {
   "cell_type": "markdown",
   "metadata": {},
   "source": [
    "## Step 1: Computing the d-dimensional mean vectors"
   ]
  },
  {
   "cell_type": "markdown",
   "metadata": {},
   "source": [
    "In this first step, we will start off with a simple computation of the **mean vectors $m_i$**, (i=1,2,3) of the 3 different flower classes.\n",
    "\n",
    "$$\n",
    "m_i=\n",
    "\\begin{bmatrix}\n",
    "\\mu_{feature 1} \\\\\n",
    "\\mu_{feature 2} \\\\\n",
    "\\mu_{feature 3} \\\\\n",
    "\\mu_{feature 4} \\\\\n",
    "\\end{bmatrix}\n",
    ", with \\, i=1,2,3\n",
    "$$\n",
    "where $i$ represents no.of class labels."
   ]
  },
  {
   "cell_type": "code",
   "execution_count": 4,
   "metadata": {},
   "outputs": [
    {
     "name": "stdout",
     "output_type": "stream",
     "text": [
      "[[ 5.006  3.418  1.464  0.244]\n",
      " [ 5.936  2.77   4.26   1.326]\n",
      " [ 6.588  2.974  5.552  2.026]]\n"
     ]
    }
   ],
   "source": [
    "# Calculating the mean vectors\n",
    "n_class=len(label_map)\n",
    "mean_vectors=np.zeros((n_class,n))\n",
    "for i in range(n_class):\n",
    "    data=np.where(y==i)[0]\n",
    "    mean_vectors[i,:]=x[data,:].mean(axis=0)\n",
    "print(mean_vectors)"
   ]
  },
  {
   "cell_type": "markdown",
   "metadata": {},
   "source": [
    "## Step 2: Computing the Scatter Matrices"
   ]
  },
  {
   "cell_type": "markdown",
   "metadata": {},
   "source": [
    "Now, we will compute the two $4 \\times 4$-dimensional matrices. The **within-class and the between-class scatter matrix.**"
   ]
  },
  {
   "cell_type": "markdown",
   "metadata": {},
   "source": [
    "### Within-class scatter matrix $S_w$"
   ]
  },
  {
   "cell_type": "markdown",
   "metadata": {},
   "source": [
    "The **within-class scatter matrix $S_w$** is computed by the following equation:\n",
    "$$S_w= \\sum_{i=1}^cS_i$$\n",
    "\n",
    "where, $S_i$ is the scatter matrix corresponding to each class, and is calculated as,\n",
    "$$S_i=\\sum_{x\\,in\\,class\\,i} (x−m_i)(x−m_i)^T$$\n",
    "\n",
    "where $m_i$ is the mean vector corresponding to each class."
   ]
  },
  {
   "cell_type": "code",
   "execution_count": 5,
   "metadata": {},
   "outputs": [
    {
     "name": "stdout",
     "output_type": "stream",
     "text": [
      "Within class scatter matrix is:\n",
      "\n",
      "[[ 38.9562  13.683   24.614    5.6556]\n",
      " [ 13.683   17.035    8.12     4.9132]\n",
      " [ 24.614    8.12    27.22     6.2536]\n",
      " [  5.6556   4.9132   6.2536   6.1756]]\n"
     ]
    }
   ],
   "source": [
    "# Calculating the within class scatter matrix\n",
    "sw=np.zeros((4,4))\n",
    "for i in range(n_class):\n",
    "    data=np.where(y==i)[0]\n",
    "    sw+=np.dot((x[data,:]-mean_vectors[i,:]).T,x[data,:]-mean_vectors[i,:])\n",
    "print('Within class scatter matrix is:\\n')\n",
    "print(sw)"
   ]
  },
  {
   "cell_type": "markdown",
   "metadata": {},
   "source": [
    "### Between-class scatter matrix $S_b$\n"
   ]
  },
  {
   "cell_type": "markdown",
   "metadata": {},
   "source": [
    "The **between-class scatter matrix $S_b$** is computed by the following equation:\n",
    "$$S_b=\\sum_{i=1}^cN_i(m_i−m)(m_i−m)^T$$\n",
    "\n",
    "where, $m$ is the **overall mean**, and $m_i$ and $N_i$ are the **sample mean** and **sizes** of the respective classes."
   ]
  },
  {
   "cell_type": "code",
   "execution_count": 6,
   "metadata": {},
   "outputs": [
    {
     "name": "stdout",
     "output_type": "stream",
     "text": [
      "Between class scatter matrix is:\n",
      "\n",
      "[[  63.21213333  -19.534       165.16466667   71.36306667]\n",
      " [ -19.534        10.9776      -56.0552      -22.4924    ]\n",
      " [ 165.16466667  -56.0552      436.64373333  186.90813333]\n",
      " [  71.36306667  -22.4924      186.90813333   80.60413333]]\n"
     ]
    }
   ],
   "source": [
    "# Calculating between class scatter matrix\n",
    "sb=np.zeros((4,4))\n",
    "mean=x.mean(axis=0,keepdims=True)\n",
    "for i in range(n_class):\n",
    "    ni=len(np.where(y==i)[0])\n",
    "    sb+=ni*np.dot((mean_vectors[i,:]-mean).T,mean_vectors[i,:]-mean)\n",
    "print('Between class scatter matrix is:\\n')\n",
    "print(sb)"
   ]
  },
  {
   "cell_type": "markdown",
   "metadata": {},
   "source": [
    "## Step 3: Solving the generalized eigenvalue problem for the matrix $S_w^{−1}S_b$"
   ]
  },
  {
   "cell_type": "markdown",
   "metadata": {},
   "source": [
    "Next, we will solve the **generalized eigenvalue problem for the matrix $S_w^{−1}S_b$ to obtain the linear discriminants.**"
   ]
  },
  {
   "cell_type": "code",
   "execution_count": 7,
   "metadata": {},
   "outputs": [
    {
     "name": "stdout",
     "output_type": "stream",
     "text": [
      "Eigen values are: \n",
      "\n",
      "[  3.22719578e+01 +0.00000000e+00j   2.77566864e-01 +0.00000000e+00j\n",
      "   4.61581934e-15 +1.98082512e-15j   4.61581934e-15 -1.98082512e-15j]\n",
      "Eigen vectors are: \n",
      "\n",
      "[[-0.20490976+0.j         -0.00898234+0.j         -0.19970361+0.3350149j\n",
      "  -0.19970361-0.3350149j ]\n",
      " [-0.38714331+0.j         -0.58899857+0.j         -0.23429544-0.14790351j\n",
      "  -0.23429544+0.14790351j]\n",
      " [ 0.54648218+0.j          0.25428655+0.j         -0.30195230-0.14571006j\n",
      "  -0.30195230+0.14571006j]\n",
      " [ 0.71378517+0.j         -0.76703217+0.j          0.81160771+0.j\n",
      "   0.81160771-0.j        ]]\n"
     ]
    }
   ],
   "source": [
    "eig_val,eig_vect=np.linalg.eig(np.dot(np.linalg.inv(sw),sb))\n",
    "print('Eigen values are: \\n')\n",
    "print(eig_val)\n",
    "print('Eigen vectors are: \\n')\n",
    "print(eig_vect)"
   ]
  },
  {
   "cell_type": "markdown",
   "metadata": {},
   "source": [
    "## Step 4: Selecting linear discriminants for the new feature subspace"
   ]
  },
  {
   "cell_type": "markdown",
   "metadata": {},
   "source": [
    "**Eigenvectors with the lowest eigenvalues bear the least information about the distribution of the data,** and those are the ones we want to drop.  \n",
    "The common approach is to rank the eigenvectors from highest to lowest corresponding to decreasing order of eigenvalue and choose the top `k` eigenvectors.  \n",
    "From the above eigenvalues we see that, 2 out of the 4 have magnitudes larger compared to the other 2, and so we consider $k=2$.  \n",
    "**Note: In LDA, the number of linear discriminants is at most $c−1$ where $c$ is the number of class labels.**"
   ]
  },
  {
   "cell_type": "markdown",
   "metadata": {},
   "source": [
    "## Step 5: Transforming the samples onto the new subspace"
   ]
  },
  {
   "cell_type": "markdown",
   "metadata": {},
   "source": [
    "In the last step, we use the matrix of eigen vectors as transfomation matrix, with which we matrix multiply dataset to obtain transformed dataset and among the transformed dataset with n=4 features, we select first k=2 features.\n",
    "$$Y=X \\times W$$\n",
    "(where X is a $m \\times d$-dimensional dataset, and W are the transformation matrix of dimension $d \\times d$)."
   ]
  },
  {
   "cell_type": "code",
   "execution_count": 8,
   "metadata": {},
   "outputs": [
    {
     "name": "stdout",
     "output_type": "stream",
     "text": [
      "Shape of transformed dataset is: (150, 4)\n"
     ]
    },
    {
     "name": "stderr",
     "output_type": "stream",
     "text": [
      "C:\\Users\\DELL\\Anaconda3\\lib\\site-packages\\numpy\\core\\numeric.py:583: ComplexWarning: Casting complex values to real discards the imaginary part\n",
      "  return array(a, dtype, copy=False, order=order, subok=True)\n"
     ]
    },
    {
     "data": {
      "image/png": "[encoded data removed]",
      "text/plain": [
       "<matplotlib.figure.Figure at 0x8198094d68>"
      ]
     },
     "metadata": {},
     "output_type": "display_data"
    }
   ],
   "source": [
    "transformed=np.dot(x,eig_vect)\n",
    "print('Shape of transformed dataset is: {}'.format(transformed.shape))\n",
    "# Plotting first k=2 features\n",
    "color={0:'r',1:'g',2:'b'}\n",
    "for ind,val in color.items():\n",
    "    data_pts=transformed[np.where(y==ind)[0]]\n",
    "    plt.scatter(data_pts[:,0],data_pts[:,1],c=val,label=label_map[ind])\n",
    "plt.legend()\n",
    "plt.xlabel('LDA component 1')\n",
    "plt.ylabel('LDA component 2')\n",
    "plt.title('LDA plotting of Iris dataset.')\n",
    "plt.show()"
   ]
  },
  {
   "cell_type": "markdown",
   "metadata": {},
   "source": [
    "# 8. Feature scaling in LDA"
   ]
  },
  {
   "cell_type": "markdown",
   "metadata": {},
   "source": [
    "Feature scaling such as does not change the overall results of an LDA and thus may be optional. The scatter matrices will be different depending on whether the features were scaled or not. In addition, the eigenvectors will be different as well. However, the important part is that the eigenvalues will be exactly the same as well as the final projects – the only difference you’ll notice is the scaling of the component axes."
   ]
  },
  {
   "cell_type": "markdown",
   "metadata": {},
   "source": [
    "# 9. References"
   ]
  },
  {
   "cell_type": "markdown",
   "metadata": {},
   "source": [
    "[link to sebastianraschka.com](https://sebastianraschka.com/Articles/2014_python_lda.html)"
   ]
  }
 ],
 "metadata": {
  "kernelspec": {
   "display_name": "Python 3",
   "language": "python",
   "name": "python3"
  },
  "language_info": {
   "codemirror_mode": {
    "name": "ipython",
    "version": 3
   },
   "file_extension": ".py",
   "mimetype": "text/x-python",
   "name": "python",
   "nbconvert_exporter": "python",
   "pygments_lexer": "ipython3",
   "version": "3.6.1"
  }
 },
 "nbformat": 4,
 "nbformat_minor": 2
}
