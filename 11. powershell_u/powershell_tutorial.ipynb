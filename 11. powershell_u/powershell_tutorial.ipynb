{
 "cells": [
  {
   "cell_type": "markdown",
   "metadata": {},
   "source": [
    "# Powershell Tutorial"
   ]
  },
  {
   "cell_type": "markdown",
   "metadata": {},
   "source": [
    "# Table of Content"
   ]
  },
  {
   "cell_type": "markdown",
   "metadata": {},
   "source": [
    "* [1. What is Powershell?](#1.-What-is-Powershell?)\n",
    "  * [1.1 What is PowerShell Cmdlet?](#1.1-What-is--PowerShell-Cmdlet?)\n",
    "* [2. Cmdlet vs. Command:](#2.-Cmdlet-vs.-Command:)\n",
    "* [3. Some important PowerShell commands](#3.-Some-important-PowerShell-commands)"
   ]
  },
  {
   "cell_type": "markdown",
   "metadata": {},
   "source": [
    "# 1. What is Powershell?"
   ]
  },
  {
   "cell_type": "markdown",
   "metadata": {},
   "source": [
    "1. Windows PowerShell is object-oriented automation engine and scripting language. It is designed mainly for the system administrators.\n",
    "2. It helps IT, professionals, to control & automate the administration of the Window OS and other applications.\n",
    "3. It introduced some compelling new concepts that enable you to extend the knowledge you have gained and the scripts that you have created within the Windows Command Prompt and Windows Script Host environments.\n",
    "4. It combines the flexibility of scripting, command-line speed, and the power of a GUI-based admin tool.\n",
    "5. Powershell offers a well-integrated command-line experience for the operation system.\n",
    "6. PowerShell allows complete access to all of the types in the .NET framework.\n",
    "7. Trusted by system administrators.\n",
    "8. Powershell can manage non-windows such as **Linux** as WSMan and CIM are the default protocols of management."
   ]
  },
  {
   "cell_type": "markdown",
   "metadata": {},
   "source": [
    "## 1.1 What is  PowerShell Cmdlet?"
   ]
  },
  {
   "cell_type": "markdown",
   "metadata": {},
   "source": [
    "A cmdlet which is also called Command let is a is a lightweight command used in the Window base PowerShell environment. PowerShell invokes these cmdlets in the command prompt."
   ]
  },
  {
   "cell_type": "markdown",
   "metadata": {},
   "source": [
    "# 2. Cmdlet vs. Command:"
   ]
  },
  {
   "cell_type": "markdown",
   "metadata": {},
   "source": [
    "Cmdlets are different from commands in other command-shell environments in the following manners −\n",
    "\n",
    "* Cmdlets are .NET Framework class objects It can't be executed separately\n",
    "* Cmdlets process works on objects. So text stream and objects can't be passed as output for pipelining\n",
    "* Cmdlets are record-based as so it processes a single object at a time\n",
    "\n",
    "**Most of the PowerShell functionality comes from Cmdlet's which is always in verb-noun format and not plural.** Moreover, **Cmdlet's return objects not text. A cmdlet always consists of a verb and a noun, separated with a hyphen.** Some of the verbs use for you to learn PowerShell is:\n",
    "\n",
    "* **Get** — To get something\n",
    "* **Start** — To run something\n",
    "* **Out** — To output something\n",
    "* **Stop** — To stop something that is running\n",
    "* **Set** — To define something\n",
    "* **New** — To create something "
   ]
  },
  {
   "cell_type": "markdown",
   "metadata": {},
   "source": [
    "**Powershell has some aliases which are short form of cmdlets like `dir` is alias of `Get-ChildItem`, so normal switches along with dir will not work like `dir /s` will work in command prompt but no in powershell, instead `dir -recurse` which is equivalent to `Get-ChildItem -recurse` will work in powershell.**"
   ]
  },
  {
   "cell_type": "markdown",
   "metadata": {},
   "source": [
    "# 3. Some important PowerShell commands"
   ]
  },
  {
   "cell_type": "markdown",
   "metadata": {},
   "source": [
    "1. /# This is a line based command.\n",
    "1. <#  \n",
    "This is a block based command.  \n",
    "#>\n",
    "1. **Get-Help:** Help about PowerShell commands and topics.  \n",
    "For example: `Get-Help Format-Table`\n",
    "2. **Get-Command:** Get information about any command that can be invoked. To generate a list of cmdlets, functions installed in your machine.  \n",
    "For example: `Get-Command -Noun *hotfix*`\n",
    "3. **Get-Service:** Get all services that begin with a specific string.  \n",
    "For example: `Get-Service \"vm*\"` will list all the services which start with string \"vm\".\n",
    "4. **Get-Member:** Show what can be done with an object.  \n",
    "Example: To get members of the all services which start with \"vm\" we use the command `Get-Service \"vm*\" | Get-Member`\n",
    "5. **Get-Alias:** This command wiil get you all the alias of cmdlets.  \n",
    "For example: `Get-Alias`. To get the alias of specific command like dir command, use `Get-Alias dir`.\n",
    "6. **Get-ChildItem:** It is cmdlet for `dir` command.\n",
    "7. **Start-Transcript:** It is a type of log file, which stores all the inetractive commands and its output typed in Powershell.  \n",
    "For example: `Start-Transcript` will start a transcript in default folder and `Start-Transcript -path filename.txt` will start transcript in current folder with the following filename.\n",
    "8. **Get-Process:** It displays list of all the processes objects available.  \n",
    "For example: `Get-Process`\n",
    "9. **Select-Object:** The command uses the Get-Process cmdlet to get the processes on the computer. It passes the processes to the Select-Object cmdlet, which creates objects that have only the ProcessName parameter and a calculated property named Start Day.  \n",
    "For example: `Get-Process -name process_name | Select-Object *`\n",
    "10. **Get-History:** Displays list of all cmdlets typed in the current sessions.  \n",
    "For example: `Get-history`\n",
    "11. **Clear-Host:** Clears the screen, same function as `cls`.  \n",
    "For example: `Clear-Host`\n",
    "12. **Write-Host:** Writes text on the screen.  \n",
    "For example: `Write-Host`  \n",
    "12. **Get-PSDrive:** Get all the drives associated with the system, along with free space and used space.  \n",
    "For example: `Get-PSDrive`\n",
    "13. **?:** It is alias for Where-Object. Check for the specific conditions for each object and allows only those objects to pass.\n",
    "14. **Sort-Object:** Sorts object according to certain specified member value.  \n",
    "For example: `Sort-Object name`\n",
    "15. **Invoke-Item:** Used to start/execute some specific file.  \n",
    "For example: `Invoke-Item '.\\sample_file.docx'`\n",
    "16. **ConvertTo-Html:** Outputs the piped output to a html format i.e, included in HTML Tags.  \n",
    "For example: `Get-ChildItems | ConvertTo-Html`\n",
    "17. **Out-File:** Outputs the output of previous piped command to a file.  \n",
    "For example: `Get-ChildItems | Out-File '.\\sample_output.txt'`\n",
    "18. **Format-Table:** Displays the piped previous output in the form of Table.  \n",
    "For example: `Get-ChildItems | Fromat-Table -property Length, Name -autosize`\n",
    "19. **Out-GridView:** Displays the output table of the previous piped command to a new grid window.  \n",
    "For example: `Get-Process | Out-GridView -Title \"Proces by CPU\"`\n",
    "20. **Get-Content:** Gets the content of the item at the specified location.  \n",
    "For example: `Get-Content -Path .\\Sample_file.txt`\n",
    "21. **Set-Content:** Sets the content of the file.  \n",
    "For example: `Set-Content -Path .\\Sample_file.txt -Value 'Hello World'`\n",
    "22. **Clear-Content:** Erase the content of a txt file.  \n",
    "For example: `Clear-Content D:\\temp\\test\\test.txt`\n",
    "23. **Add-Content:** Append to the content of a any file.  \n",
    "For example: `Add-Content D:\\temp\\test\\test.txt 'World!'`\n",
    "22. **Get-Date:** Gets current date and time.  \n",
    "For example: `Get-Date` and to display time use `Get-Date -DisplayHint Time`.\n",
    "23. **New-Timespan:** Creates a timespan object that represent a time interval.  \n",
    "For example: `new-timespan -start \\\\$boot_info -end get-date`\n",
    "24. **Start-Sleep:** Suspends the activity in a script or session for the particular period of time.  \n",
    "For example: `Start-Sleep -s 15`\n",
    "25. **Read-Host** Used to read from the console.  \n",
    "For example: `$choice = Read-Host \"Please put your choice\"`\n",
    "26. **$psversiontable or Get-Host** Determines the version of the powershell operating."
   ]
  },
  {
   "cell_type": "markdown",
   "metadata": {
    "collapsed": true
   },
   "source": [
    "# 4. Basic Powershell File commands:"
   ]
  },
  {
   "cell_type": "markdown",
   "metadata": {},
   "source": [
    "1. **New-Item:** cmdlet is **used to create a directory or file** by passing the path using -Path as path of the directory and -ItemType as Directory for directory and -ItemType as File for files. For example:  \n",
    "`New-Item -Path 'D:\\temp\\Test Folder' -ItemType Directory`  \n",
    "`New-Item -Path 'D:\\temp\\Test Folder\\Test File.txt' -ItemType File`\n",
    "2. **Copy-Item:** cmdlet is **used to copy a directory or file** by passing the path of the directory or file to be copied and destination path where the folder is to be copied. For example:  \n",
    "`Copy-Item 'D:\\temp\\Test Folder' 'D:\\temp\\Test Folder1'`  \n",
    "`Copy-Item 'D:\\temp\\Test Folder\\Test File.txt' 'D:\\temp\\Test Folder1\\Test File1.txt'`\n",
    "3. **Remove-Item:** cmdlet is **used to delete a directory or file** by passing the path of the directory or file to be deleted. For example:  \n",
    "`Remove-Item 'D:\\temp\\Test Folder1'`  \n",
    "`Remove-Item 'D:\\temp\\Test Folder' -Recurse`  \n",
    "`Remove-Item 'D:\\temp\\Test Folder\\test.txt'`\n",
    "4. **Move-Item:** cmdlet is **used to move a directory or file** by passing the path of the directory to be moved and destination path where the folder is to be moved. For example:  \n",
    "`Move-Item D:\\temp\\Test D:\\temp\\Test1`  \n",
    "`Move-Item D:\\temp\\Test\\Test.txt D:\\temp\\Test1`\n",
    "5. **Rename-Item:** cmdlet is **used to rename a folder or file** by passing the path of the folder/file to be renamed and target name. For example:  \n",
    "`Rename-Item D:\\temp\\Test D:\\temp\\Test1`  \n",
    "`Rename-Item D:\\temp\\Test\\test.txt test1.txt`\n",
    "6. **Test-Path:** cmdlet is **used to check existence of a folder or file.** For example:  \n",
    "`Test-Path D:\\temp\\test`  \n",
    "`Test-Path D:\\temp\\test\\test.txt`"
   ]
  },
  {
   "cell_type": "markdown",
   "metadata": {},
   "source": [
    "# 5. Powershell Brackets:"
   ]
  },
  {
   "cell_type": "markdown",
   "metadata": {},
   "source": [
    "Powershell supports three types of brackets.\n",
    "1. Parenthesis brackets. − ()\n",
    "2. Braces brackets. − {}\n",
    "3. Square brackets. − []\n",
    "\n",
    "**Parenthesis brackets:**\n",
    "This type of brackets is used to:\n",
    "1. pass arguments\n",
    "2. enclose multiple set of instructions\n",
    "3. resolve ambiguity\n",
    "4. create array\n",
    "\n",
    "**Example:**\n",
    "```\n",
    "$array = @(\"item1\", \"item2\", \"item3\")\n",
    " \n",
    "foreach ($element in $array) { $element }\n",
    "item1\n",
    "item2\n",
    "item3\n",
    "```\n",
    "\n",
    "**Braces brackets:**\n",
    "This type of brackets is used to:\n",
    "1. enclose statements\n",
    "2. block commands\n",
    "\n",
    "**Example:**\n",
    "```\n",
    "$x = 10\n",
    "\n",
    "if($x -le 20){\n",
    "   write-host(\"This is if statement\")\n",
    "}\n",
    "```\n",
    "This will produce the following result −\n",
    "**Output**\n",
    "`This is if statement.`\n",
    "\n",
    "**Square brackets:**\n",
    "This type of brackets is used to\n",
    "1. access to array\n",
    "2. access to hashtables\n",
    "3. filter using regular expression"
   ]
  },
  {
   "cell_type": "markdown",
   "metadata": {},
   "source": [
    "# 6. Special Variables in Powershell"
   ]
  },
  {
   "cell_type": "markdown",
   "metadata": {},
   "source": [
    "1. **\\\\$HOME:** Represents the full path of the user's home directory.\n",
    "2. **\\\\$HOST:** Represents an object that represents the current host application for PowerShell.\n",
    "3. **\\\\$PSHOME:** Represents the full path of the installation directory for PowerShell. \n",
    "4. **\\\\$TRUE:** Represents TRUE. You can use this variable to represent TRUE in commands and scripts.\n",
    "5. **\\\\$FALSE:** Represents FALSE. You can use this variable to represent FALSE in commands and scripts."
   ]
  },
  {
   "cell_type": "markdown",
   "metadata": {},
   "source": [
    "# 7. Operators"
   ]
  },
  {
   "cell_type": "markdown",
   "metadata": {},
   "source": [
    "1. Arithmetic operators: +,-,\\*,/,%. For example:\n",
    "```\n",
    "> $a + $b\n",
    "> $a - $b\n",
    "> $a * $b\n",
    "> $b / $a\n",
    "> $b % $a \n",
    "```\n",
    "2. Comparison operators: -eq, -ne, -gt, -ge, -lt, -le. For example:  \n",
    "```\n",
    "> $a -eq $b\n",
    "> $a -ne $b\n",
    "> $b -gt $a\n",
    "> $b -ge $a\n",
    "> $b -lt $a\n",
    "> $b -le $a\n",
    "```\n",
    "3. Assignment operator: =,+=,-=,\\*=,/=,%=. For example:  \n",
    "```\n",
    "> $c += $a\n",
    "> $c -= $a\n",
    "```\n",
    "4. Logical operator: -and, -or, -not. For example:  \n",
    "```\n",
    "> $a = 10\n",
    "> $b = 20\n",
    "> $a -AND $b\n",
    " True\n",
    "> $a -OR $b\n",
    " True\n",
    "> -NOT ($a -AND $b)\n",
    " False \n",
    "```\n",
    "5. Backtick operator: Backtick (\\`) operator is also called word-wrap operator. It allows a command to be written in multiple lines. It can be used for new line (\\`n) or tab (\\`t) in sentences as well. For example:  \n",
    "```\n",
    "> Get-Service * | Sort-Object ServiceType `  \n",
    "| Format-Table Name, ServiceType, Status -AutoSize\n",
    "\n",
    "> Write-host \"Title Subtitle\"\n",
    "  Title Subtitle\n",
    "\n",
    "> Write-host \"Title `nSubtitle\"\n",
    "  Title \n",
    "  Subtitle\n",
    "\n",
    "> Write-host \"Title `tSubtitle\"\n",
    "  Title   Subtitle\n",
    "```"
   ]
  },
  {
   "cell_type": "markdown",
   "metadata": {},
   "source": [
    "# 8. Condition"
   ]
  },
  {
   "cell_type": "markdown",
   "metadata": {},
   "source": [
    "## 8.1 if statement (Example):\n",
    "```\n",
    "$x = 10\n",
    "if($x -le 20){\n",
    "   write-host(\"This is if statement\")\n",
    "}\n",
    "```\n",
    "## 8.2: if-else statement (Example):\n",
    "```\n",
    "$x = 30\n",
    "if($x -le 20){\n",
    "   write-host(\"This is if statement\")\n",
    "}else {\n",
    "   write-host(\"This is else statement\")\n",
    "}\n",
    "```\n",
    "## 8.3: Nested if-else statement (Example):\n",
    "```\n",
    "$x = 30\n",
    "$y = 10\n",
    "if($x -eq 30){\n",
    "   if($y -eq 10) {\n",
    "      write-host(\"X = 30 and Y = 10\")\n",
    "   }\n",
    "}\n",
    "```\n",
    "## 8.4: Switch statement (Example):\n",
    "```\n",
    "switch(3){\n",
    "   1 {\"One\"}\n",
    "   2 {\"Two\"}\n",
    "   3 {\"Three\"}\n",
    "   4 {\"Four\"}\n",
    "   3 {\"Three Again\"}\n",
    "}\n",
    "\n",
    "It will produce output:\n",
    "Three\n",
    "Three Again\n",
    "```"
   ]
  },
  {
   "cell_type": "markdown",
   "metadata": {},
   "source": [
    "# 9. Loops"
   ]
  },
  {
   "cell_type": "markdown",
   "metadata": {},
   "source": [
    "## 9.1: For loop:\n",
    "```\n",
    "> $array = @(\"item1\", \"item2\", \"item3\")\n",
    " \n",
    "> for($i = 0; $i -lt $array.length; $i++){ $array[$i] }\n",
    "item1\n",
    "item2\n",
    "item3\n",
    "```"
   ]
  },
  {
   "cell_type": "markdown",
   "metadata": {},
   "source": [
    "## 9.2: Foreach loop:\n",
    "```\n",
    "$array = @(\"item1\", \"item2\", \"item3\")\n",
    " \n",
    "> foreach ($element in $array) { $element }\n",
    "item1\n",
    "item2\n",
    "item3\n",
    " \n",
    "> $array | foreach { $_ }\n",
    "item1\n",
    "item2\n",
    "item3\n",
    "```"
   ]
  },
  {
   "cell_type": "markdown",
   "metadata": {},
   "source": [
    "## 9.3: While loop:\n",
    "```\n",
    "> $array = @(\"item1\", \"item2\", \"item3\")\n",
    "$counter = 0;\n",
    "\n",
    "while($counter -lt $array.length){\n",
    "   $array[$counter]\n",
    "   $counter += 1\n",
    "}\n",
    " \n",
    "item1\n",
    "item2\n",
    "item3\n",
    "```"
   ]
  },
  {
   "cell_type": "markdown",
   "metadata": {},
   "source": [
    "## 9.4 Do-while loop:\n",
    "```\n",
    "> $array = @(\"item1\", \"item2\", \"item3\")\n",
    "$counter = 0;\n",
    "\n",
    "do {\n",
    "   $array[$counter]\n",
    "   $counter += 1\n",
    "} while($counter -lt $array.length)\n",
    " \n",
    "item1\n",
    "item2\n",
    "item3 \n",
    "```"
   ]
  },
  {
   "cell_type": "markdown",
   "metadata": {},
   "source": [
    "# 10. Array"
   ]
  },
  {
   "cell_type": "markdown",
   "metadata": {},
   "source": [
    "**Syntax:**  \n",
    "```\n",
    "$A = 1, 2, 3, 4\n",
    "[int32[]]$intA = 1500,2230,3350,4000\n",
    "```\n",
    "**Methods:**\n",
    "```\n",
    "$A.getType() // Provides the basetype of variable and it's name.\n",
    "$myList.Length // Provides the name of the array\n",
    "$myList[1] //Provides the second element in the array\n",
    "$subList = $myList[1..3] //Gets the partial subarray form index 1 to 3.\n",
    "\n",
    "//Displaying element-wise using for loop\n",
    "for ($i = 0; $i -le ($myList.length - 1); $i += 1) {\n",
    "  $myList[$i]\n",
    "}\n",
    "\n",
    "//Displaying element-wise using foreach loop\n",
    "foreach ($element in $myList) {\n",
    "  $element\n",
    "}\n",
    "\n",
    "//Displaying element-wise using while loop\n",
    "$i = 0\n",
    "while($i -lt 4) {\n",
    "  $myList[$i];\n",
    "  $i++\n",
    "}\n",
    "```"
   ]
  },
  {
   "cell_type": "markdown",
   "metadata": {},
   "source": [
    "# 11. Regular expression"
   ]
  },
  {
   "cell_type": "markdown",
   "metadata": {},
   "source": [
    "** -match** operator is used for the regular expression. It returns True or False depending on whether a match is found or not.\n",
    "\n",
    "|Subexpression|Matches|\n",
    "|:-:|:-:|\n",
    "|^|Matches the beginning of the line.|\n",
    "|$|Matches the end of the line.|\n",
    "|.|Matches any single character except newline. Using m option allows it to match the newline as well.|\n",
    "|[...]|Matches any single character in brackets.|\n",
    "|[^...]|Matches any single character not in brackets.|\n",
    "|\\A|Beginning of the entire string.|\n",
    "|\\z|End of the entire string.|\n",
    "|\\Z|End of the entire string except allowable final line terminator.|\n",
    "|re*|Matches 0 or more occurrences of the preceding expression.|\n",
    "|re+|Matches 1 or more of the previous thing.|\n",
    "|re?|Matches 0 or 1 occurrence of the preceding expression.|\n",
    "|(?: re)|Groups regular expressions without remembering the matched text.|\n",
    "|re{ n}|Matches exactly n number of occurrences of the preceding expression.|\n",
    "|re{ n,}|Matches n or more occurrences of the preceding expression.|\n",
    "|re{ n, m}|Matches at least n and at most m occurrences of the preceding expression.|\n",
    "|(re)|Groups regular expressions and remembers the matched text.|\n",
    "|(?> re)|Matches the independent pattern without backtracking.|\n",
    "|\\w|Matches the word characters.|\n",
    "|\\W|Matches the nonword characters.|\n",
    "|\\s|Matches the whitespace. Equivalent to [\\t\\n\\r\\f].|\n",
    "|\\S|Matches the nonwhitespace.|\n",
    "|\\d|Matches the digits. Equivalent to [0-9].|\n",
    "|\\D|Matches the nondigits.|\n",
    "|\\A|Matches the beginning of the string.|\n",
    "|\\Z|Matches the end of the string. If a newline exists, it matches just before newline.|\n",
    "|\\z|Matches the end of the string.|\n",
    "|\\G|Matches the point where the last match finished.|\n",
    "|\\n|Back-reference to capture group number \"n\".|\n",
    "|\\b|Matches the word boundaries when outside the brackets. Matches the backspace (0x08) when inside the brackets.|\n",
    "|\\B|Matches the nonword boundaries.|\n",
    "|\\n, \\t, etc.|Matches newlines, carriage returns, tabs, etc.|\n",
    "|\\Q|Escape (quote) all characters up to \\E.|\n",
    "|\\E|Ends quoting begun with \\Q.|\n"
   ]
  }
 ],
 "metadata": {
  "kernelspec": {
   "display_name": "Python 3",
   "language": "python",
   "name": "python3"
  },
  "language_info": {
   "codemirror_mode": {
    "name": "ipython",
    "version": 3
   },
   "file_extension": ".py",
   "mimetype": "text/x-python",
   "name": "python",
   "nbconvert_exporter": "python",
   "pygments_lexer": "ipython3",
   "version": "3.6.1"
  }
 },
 "nbformat": 4,
 "nbformat_minor": 2
}
