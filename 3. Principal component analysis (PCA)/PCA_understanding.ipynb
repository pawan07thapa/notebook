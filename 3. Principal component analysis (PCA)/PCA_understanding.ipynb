{
 "cells": [
  {
   "cell_type": "markdown",
   "metadata": {},
   "source": [
    "# Understanding Principal Component Analysis (PCA)"
   ]
  },
  {
   "cell_type": "markdown",
   "metadata": {},
   "source": [
    "The purpose of this post is to give the reader detailed understanding of Principal Component Analysis with the necessary mathematical proofs. \n",
    "\n",
    "In real world data analysis tasks we analyze complex data i.e. multi dimensional data. We plot the data and find various patterns in it or use it to train some machine learning models. \n",
    "\n",
    "As the dimensions of data increases, the difficulty to visualize it and perform computations on it also increases. So, how to reduce the dimensions of a data-\n",
    "* Remove the redundant dimensions\n",
    "* Only keep the most important dimensions"
   ]
  },
  {
   "cell_type": "markdown",
   "metadata": {},
   "source": [
    "## Table of content"
   ]
  },
  {
   "cell_type": "markdown",
   "metadata": {},
   "source": [
    "* [1. What is PCA?](#1.-What-is-PCA?)\n",
    "* [2. Some mathematical terms](#2.-Some-mathematical-terms)\n",
    "  * [2.1 Variance](#2.1-Variance)\n",
    "  * [2.2 Covariance](#2.2-Covariance)\n",
    "* [3. How PCA works?](#3.-How-PCA-works?)\n",
    "  * [3.1 Loading the dataset](#3.1-Loading-the-dataset)\n",
    "  * [3.2 Calculating the covariance matrix](#3.2-Calculating-the-covariance-matrix)\n",
    "    * [3.2.1 Calculating covariance matrix for Iris dataset](#3.2.1-Calculating-covariance-matrix-for-Iris-dataset)\n",
    "  * [3.3 Calculate eigen vectors and corresponding eigen values.](#3.3-Calculate-eigen-vectors-and-corresponding-eigen-values.)\n",
    "  * [3.4 Sort the eigen vectors according to their eigen values in decreasing order.](#3.4-Sort-the-eigen-vectors-according-to-their-eigen-values-in-decreasing-order.)\n",
    "  * [3.5 Choose first k Eigen vectors and that will be the new k dimensions.](#3.5-Choose-first-k-Eigen-vectors-and-that-will-be-the-new-k-dimensions.)\n",
    "  * [3.6 Transform the original n dimensional data points into k dimensions.](#3.6-Transform-the-original-n-dimensional-data-points-into-k-dimensions.)\n",
    "* [4. Some derivations](#4.-Some-derivations)\n",
    "  * [Theorem-1](#Theorem-1)\n",
    "  * [Theorem-2](#Theorem-2)\n",
    "  * [4.1 Inverse Transform](#4.1-Inverse-Transform)\n",
    "  * [4.1.1 Finding approx. original dataset](#4.1.1-Finding-approx.-original-dataset)\n",
    "* [5. Reference](#5.-Reference)"
   ]
  },
  {
   "cell_type": "markdown",
   "metadata": {},
   "source": [
    "## 1. What is PCA?"
   ]
  },
  {
   "cell_type": "markdown",
   "metadata": {},
   "source": [
    "PCA finds a new set of dimensions (or a set of basis of views) such that all the dimensions are orthogonal (and hence linearly independent) and ranked according to the variance of data along them. It means more important principle\n",
    "axis occurs first. (more important = more variance/more spread out data)"
   ]
  },
  {
   "cell_type": "markdown",
   "metadata": {},
   "source": [
    "## 2. Some mathematical terms"
   ]
  },
  {
   "cell_type": "markdown",
   "metadata": {},
   "source": [
    "### 2.1 Variance"
   ]
  },
  {
   "cell_type": "markdown",
   "metadata": {},
   "source": [
    "**Variance :** It is a measure of the variability or it simply measures how spread the data set is. Mathematically, it is the average squared deviation from the mean score. We use the following formula to compute variance var(x).\n",
    "$$ var (x) = \\frac{\\sum(x_i - \\mu_x)^2}{N} $$\n",
    "where $\\mu_x$ is the mean of the set of values $x_i$ and $N$ is total number of values."
   ]
  },
  {
   "cell_type": "markdown",
   "metadata": {},
   "source": [
    "### 2.2 Covariance"
   ]
  },
  {
   "cell_type": "markdown",
   "metadata": {},
   "source": [
    "**Covariance :** It is a measure of the extent to which corresponding elements from two sets of ordered data move in the same direction. Formula is shown below denoted by cov(x,y) as the covariance of x and y.\n",
    "$$ cov(x,y)=\\frac{\\sum(x_i-\\mu_x)(y_i-\\mu_y)}{N} $$\n",
    "where $\\mu_x$ and $\\mu_y$ are means values of $x_i$ and $y_i$ respectively, each having $N$ elements."
   ]
  },
  {
   "cell_type": "markdown",
   "metadata": {},
   "source": [
    "One way to observe the covariance is how interrelated two data sets are.\n",
    "\n",
    "![](covariance_image.png)\n",
    "\n",
    "Positive covariance means X and Y are positively related i.e. as X increases Y also increases. Negative covariance depicts the exact opposite relation. However zero covariance means X and Y are not related.\n",
    "\n",
    "Now lets think about the requirement of data analysis.\n",
    "Since we try to find the patterns among the data sets so we want the data to be spread out across each dimension. Also, we want the dimensions to be independent. Such that if data has high covariance when represented in some n number of dimensions then we replace those dimensions with linear combination of those n dimensions. Now that data will only be dependent on linear combination of those related n dimensions."
   ]
  },
  {
   "cell_type": "markdown",
   "metadata": {},
   "source": [
    "## 3. How PCA works?"
   ]
  },
  {
   "cell_type": "markdown",
   "metadata": {},
   "source": [
    "How does PCA work -\n",
    "\n",
    "1. Load the dataset\n",
    "1. Calculate the covariance matrix `cov_x` of data points.\n",
    "1. Calculate eigen vectors and corresponding eigen values.\n",
    "1. Sort the eigen vectors according to their eigen values in decreasing order.\n",
    "1. Choose first k eigen vectors and that will be the new k dimensions.\n",
    "1. Transform the original n dimensional data points into k dimensions."
   ]
  },
  {
   "cell_type": "markdown",
   "metadata": {},
   "source": [
    "### 3.1 Loading the dataset"
   ]
  },
  {
   "cell_type": "markdown",
   "metadata": {},
   "source": [
    "We are going to use **Iris dataset**, to visualise PCA"
   ]
  },
  {
   "cell_type": "code",
   "execution_count": 49,
   "metadata": {},
   "outputs": [
    {
     "data": {
      "text/html": [
       "<div>\n",
       "<style>\n",
       "    .dataframe thead tr:only-child th {\n",
       "        text-align: right;\n",
       "    }\n",
       "\n",
       "    .dataframe thead th {\n",
       "        text-align: left;\n",
       "    }\n",
       "\n",
       "    .dataframe tbody tr th {\n",
       "        vertical-align: top;\n",
       "    }\n",
       "</style>\n",
       "<table border=\"1\" class=\"dataframe\">\n",
       "  <thead>\n",
       "    <tr style=\"text-align: right;\">\n",
       "      <th></th>\n",
       "      <th>1</th>\n",
       "      <th>2</th>\n",
       "      <th>3</th>\n",
       "      <th>4</th>\n",
       "      <th>5</th>\n",
       "    </tr>\n",
       "  </thead>\n",
       "  <tbody>\n",
       "    <tr>\n",
       "      <th>0</th>\n",
       "      <td>5.1</td>\n",
       "      <td>3.5</td>\n",
       "      <td>1.4</td>\n",
       "      <td>0.2</td>\n",
       "      <td>Iris-setosa</td>\n",
       "    </tr>\n",
       "    <tr>\n",
       "      <th>1</th>\n",
       "      <td>4.9</td>\n",
       "      <td>3.0</td>\n",
       "      <td>1.4</td>\n",
       "      <td>0.2</td>\n",
       "      <td>Iris-setosa</td>\n",
       "    </tr>\n",
       "    <tr>\n",
       "      <th>2</th>\n",
       "      <td>4.7</td>\n",
       "      <td>3.2</td>\n",
       "      <td>1.3</td>\n",
       "      <td>0.2</td>\n",
       "      <td>Iris-setosa</td>\n",
       "    </tr>\n",
       "    <tr>\n",
       "      <th>3</th>\n",
       "      <td>4.6</td>\n",
       "      <td>3.1</td>\n",
       "      <td>1.5</td>\n",
       "      <td>0.2</td>\n",
       "      <td>Iris-setosa</td>\n",
       "    </tr>\n",
       "    <tr>\n",
       "      <th>4</th>\n",
       "      <td>5.0</td>\n",
       "      <td>3.6</td>\n",
       "      <td>1.4</td>\n",
       "      <td>0.2</td>\n",
       "      <td>Iris-setosa</td>\n",
       "    </tr>\n",
       "  </tbody>\n",
       "</table>\n",
       "</div>"
      ],
      "text/plain": [
       "     1    2    3    4            5\n",
       "0  5.1  3.5  1.4  0.2  Iris-setosa\n",
       "1  4.9  3.0  1.4  0.2  Iris-setosa\n",
       "2  4.7  3.2  1.3  0.2  Iris-setosa\n",
       "3  4.6  3.1  1.5  0.2  Iris-setosa\n",
       "4  5.0  3.6  1.4  0.2  Iris-setosa"
      ]
     },
     "execution_count": 49,
     "metadata": {},
     "output_type": "execute_result"
    }
   ],
   "source": [
    "import numpy as np\n",
    "import pandas as pd\n",
    "import matplotlib.pyplot as plt\n",
    "\n",
    "# Loading the dataset\n",
    "df=pd.read_csv('iris_data.csv',names=[1,2,3,4,5])\n",
    "# Storing the shape of the dataset\n",
    "m,n=df.shape\n",
    "# 'x' contain all the feature values\n",
    "x=df[[1,2,3,4]].values\n",
    "# Creating the label map\n",
    "label_map={ind:val for ind,val in zip(range(3),df[5].unique())}\n",
    "# 'y' contains all the label mapping to corresponding numbers\n",
    "y=np.zeros((m,1),dtype=np.uint8)\n",
    "for ind,val in label_map.items():\n",
    "    y[df[5]==val]=ind\n",
    "# Displaying the dataset\n",
    "df.head()"
   ]
  },
  {
   "cell_type": "markdown",
   "metadata": {},
   "source": [
    "### 3.2 Calculating the covariance matrix"
   ]
  },
  {
   "cell_type": "markdown",
   "metadata": {},
   "source": [
    "Assuming we have the knowledge of variance and covariance, Lets look into what a **Covariance matrix** is.\n",
    "\n",
    "Let $C_x$ covariance matrix of some data set in 4 dimensions a,b,c,d.   \n",
    "$V_a$ : variance along dimension a.  \n",
    "$C_{a,b}$ : Covariance along dimension a and b.\n",
    "\n",
    "Then $C_x$ is defined as:\n",
    "$$ C_x= \n",
    "\\begin{bmatrix}\n",
    "V_a &C_{a,b} &C_{a,c} &C_{a,d} \\\\\n",
    "C_{b,a} &V_b &C_{b,c} &C_{b,d} \\\\\n",
    "C_{c,a} &C_{c,b} &V_c &C_{c,d} \\\\\n",
    "C_{d,a} &C_{d,b} &C_{d,c} &V_d\n",
    "\\end{bmatrix}\n",
    "$$\n",
    "\n",
    "If we have a matrix X of (m,n) dimension such that it holds m data points of n dimensions, then covariance matrix can be calculated as:\n",
    "\n",
    "$$ C_x= \\frac{1}{N}(X-\\bar{X})(X-\\bar{X})^T $$\n",
    "\n",
    "It is important to note that the covariance matrix contains -\n",
    "* variance of dimensions as the main diagonal elements.\n",
    "* covariance of dimensions as the off diagonal elements.\n",
    "* covariance matrix is symmetric.\n",
    "\n",
    "As, we discussed earlier we want the data to be spread out i.e. it should have high variance along dimensions. Also we want to remove correlated dimensions i.e. covariance among the dimensions should be zero (they should be linearly independent). Therefore, our covariance matrix should have -\n",
    "* large numbers as the main diagonal elements.\n",
    "* zero values as the off diagonal elements.\n",
    "We call it a diagonal matrix.\n",
    "\n",
    "So, we have to transform the original data points such that their covariance is a diagonal matrix. The process of transforming a matrix to diagonal matrix is called **diagonalization.**"
   ]
  },
  {
   "cell_type": "markdown",
   "metadata": {},
   "source": [
    "#### 3.2.1 Calculating covariance matrix for Iris dataset"
   ]
  },
  {
   "cell_type": "code",
   "execution_count": 50,
   "metadata": {},
   "outputs": [
    {
     "name": "stdout",
     "output_type": "stream",
     "text": [
      "mean of feature 0 is -4.736951571734001e-16\n",
      "mean of feature 1 is -1.5158245029548805e-15\n",
      "mean of feature 2 is 4.7369515717340015e-17\n",
      "mean of feature 3 is -9.473903143468003e-17\n",
      "Covariance martix is:\n",
      "[[ 1.46816528 -0.30665611  0.60066444  1.30302466]\n",
      " [-0.30665611  5.35473323 -0.55335261 -1.08472247]\n",
      " [ 0.60066444 -0.55335261  0.32337083  0.71978638]\n",
      " [ 1.30302466 -1.08472247  0.71978638  1.72851418]]\n"
     ]
    }
   ],
   "source": [
    "# Feature scaling\n",
    "m,n=x.shape\n",
    "for i in range(n):\n",
    "    mean=(1/m)*x[:,i].sum()\n",
    "    variance=(1/m)*((x[:,i]-mean)**2).sum()\n",
    "    x[:,i]=(x[:,i]-mean)/variance\n",
    "# After feature scaling the dataset is 0 mean\n",
    "for i in range(n):\n",
    "    print('mean of feature {} is {}'.format(i,(1/m)*x[:,i].sum()))\n",
    "# Calculating the covariance matrix\n",
    "cov=(1/m)*np.dot(x.T,x)\n",
    "print('Covariance martix is:\\n{}'.format(cov))"
   ]
  },
  {
   "cell_type": "markdown",
   "metadata": {},
   "source": [
    "Lets try to understand what I mean by projection error. Suppose we have to transform a 2 dimensional representation of data points to a one dimensional representation. So we will basically try to find a straight line and project data points on them. (A straight line is one dimensional). There are many possibilities to select the straight line. Lets see two such possibilities -\n",
    "\n",
    "![](finding_axis1.png)\n",
    "![](finding_axis2.png)\n",
    "\n",
    "If you see the red lines (connecting the projection of blue points on magenta line) i.e. the perpendicular distance of each data point from the straight line is the projection error. Sum of the error of all data points will be the total projection error.\n",
    "\n",
    "Clearly, Second choice of straight line is better because -\n",
    "* The projection error is less than that in the first case.\n",
    "* Newly projected red points are more widely spread out than the first case. i.e. more variance."
   ]
  },
  {
   "cell_type": "markdown",
   "metadata": {},
   "source": [
    "### 3.3 Calculate eigen vectors and corresponding eigen values."
   ]
  },
  {
   "cell_type": "markdown",
   "metadata": {},
   "source": [
    "To calculate eigenvalues and eigenvectors we use `np.linalg.eig()` function."
   ]
  },
  {
   "cell_type": "code",
   "execution_count": 51,
   "metadata": {},
   "outputs": [
    {
     "name": "stdout",
     "output_type": "stream",
     "text": [
      "Eigen values are:\n",
      " [ 5.88698949  2.74141181  0.23702845  0.00935377]\n",
      "Eigen vectors are:\n",
      " [[-0.17921219  0.64902732  0.72356116  0.15200583]\n",
      " [ 0.9171719   0.38189383 -0.10759758 -0.03708883]\n",
      " [-0.15219391  0.25445129 -0.06577843 -0.95276689]\n",
      " [-0.32173859  0.60677441 -0.67864218  0.26029578]]\n"
     ]
    }
   ],
   "source": [
    "eig_val,eig_vect=np.linalg.eig(cov)\n",
    "print('Eigen values are:\\n {}'.format(eig_val))\n",
    "print('Eigen vectors are:\\n {}'.format(eig_vect))"
   ]
  },
  {
   "cell_type": "markdown",
   "metadata": {},
   "source": [
    "### 3.4 Sort the eigen vectors according to their eigen values in decreasing order."
   ]
  },
  {
   "cell_type": "markdown",
   "metadata": {},
   "source": [
    "From the above list of eigen values we see that they are already sorted in decreasing order of magnitude."
   ]
  },
  {
   "cell_type": "markdown",
   "metadata": {},
   "source": [
    "### 3.5 Choose first k Eigen vectors and that will be the new k dimensions."
   ]
  },
  {
   "cell_type": "markdown",
   "metadata": {},
   "source": [
    "The first 2 eigen values comparable, and remaining 2 eigen values have smaller values and thus can be neglected. So, we select first 2 eigenvectors corresponding to those large eigenvalues."
   ]
  },
  {
   "cell_type": "markdown",
   "metadata": {},
   "source": [
    "### 3.6 Transform the original n dimensional data points into k dimensions."
   ]
  },
  {
   "cell_type": "markdown",
   "metadata": {},
   "source": [
    "The matrix of eigenvectors is the transformation matrix, with which we matrix multiply dataset to obtain transformed dataset and among the transformed dataset with n=4 features, we select first k=2 features."
   ]
  },
  {
   "cell_type": "code",
   "execution_count": 54,
   "metadata": {},
   "outputs": [
    {
     "name": "stdout",
     "output_type": "stream",
     "text": [
      "Shape of transformed dataset is: (150, 4)\n"
     ]
    },
    {
     "data": {
      "image/png": "[encoded data removed]",
      "text/plain": [
       "<matplotlib.figure.Figure at 0x8049716d30>"
      ]
     },
     "metadata": {},
     "output_type": "display_data"
    }
   ],
   "source": [
    "transformed=np.dot(x,eig_vect)\n",
    "print('Shape of transformed dataset is: {}'.format(transformed.shape))\n",
    "# Plotting first k=2 features\n",
    "color={0:'r',1:'g',2:'b'}\n",
    "for ind,val in color.items():\n",
    "    data_pts=transformed[np.where(y==ind)[0]]\n",
    "    plt.scatter(data_pts[:,0],data_pts[:,1],c=val,label=label_map[ind])\n",
    "plt.legend()\n",
    "plt.xlabel('Principle component 1')\n",
    "plt.ylabel('Principle component 2')\n",
    "plt.title('PCA plotting of Iris dataset.')\n",
    "plt.show()"
   ]
  },
  {
   "cell_type": "markdown",
   "metadata": {},
   "source": [
    "## 4. Some derivations"
   ]
  },
  {
   "cell_type": "markdown",
   "metadata": {},
   "source": [
    "Now we want to transform the original data points such that the covariance matrix of transformed data points is a diagonal matrix. How to do that ?  \n",
    "$C_x=$covariance matrix of original dataset $X$.  \n",
    "$C_y=$covariance matrix of transformed dataset $Y$.  \n",
    "such that, $Y=PX$.  \n",
    "\n",
    "For simplicity, we discard the mean term and assume the data to be centered, i.e, $X=(X-\\bar{X})$\n",
    "So,\n",
    "$$\n",
    "\\begin{eqnarray}\n",
    "C_x=& \\frac{1}{N}XX^T \\\\\n",
    "C_y=& \\frac{1}{N}YY^T \\\\\n",
    "=& \\frac{1}{N}(PX)(PX)^T \\\\\n",
    "=& \\frac{1}{N}PXX^TP^T \\\\\n",
    "=& P(\\frac{1}{N}XX^T)P^T \\\\\n",
    "=& PC_xP^T \\\\\n",
    "\\end{eqnarray}\n",
    "$$\n",
    "\n",
    "Here’s the trick- If we find the matrix of eigen vectors of Cx and use that as P (P is used for transforming X to Y, see the image above) , then Cy (covariance of transformed points) will be a diagonal matrix. Hence Y will be the set of new/transformed data points.\n",
    "Now, if we want to transform points to k dimensions then we will select first k eigen vectors of the matrix Cx (sorted decreasingly according to eigen values) and form a matrix with them and use them as P.\n",
    "\n",
    ">So, if we have m dimensional original n data points then\n",
    "$$\n",
    "X : m*n \\\\\n",
    "P : k*m \\\\\n",
    "Y = PX : (k*m)(m*n) = (k*n)\n",
    "$$\n",
    "Hence, our new transformed matrix has n data points having k dimensions."
   ]
  },
  {
   "cell_type": "markdown",
   "metadata": {},
   "source": [
    "### Theorem-1"
   ]
  },
  {
   "cell_type": "markdown",
   "metadata": {},
   "source": [
    "**The inverse of an orthogonal matrix is its transpose.**\n",
    "\n",
    "**Proof:**\n",
    "For orthogonal matrix,\n",
    "$$\n",
    "A^TA=I \\\\\n",
    "A^{-1}=A^T \\\\\n",
    "$$"
   ]
  },
  {
   "cell_type": "markdown",
   "metadata": {},
   "source": [
    "### Theorem-2"
   ]
  },
  {
   "cell_type": "markdown",
   "metadata": {},
   "source": [
    "**Let A be a real symmetric matrix and $\\lambda_1,\\lambda_2,\\dots,\\lambda_k$ be distinct eigenvalues of A. \n",
    "Let $u_i \\in R^n$ be non zero eigenvectors such that, $1\\leq i\\leq k$.   \n",
    "Then ${u_1,u_2,\\dots,u_k}$ forms an orthonormal set.**\n",
    "\n",
    "**Proof:**\n",
    "For $i \\neq j$, $1 \\leq i,j \\leq k$, since $A^T=A$, we have:\n",
    "$$\n",
    "\\begin{eqnarray}\n",
    "\\lambda_i*u_iu_j^T=(\\lambda_i*u_i)u_j^T\n",
    "=(Au_i)u_j^T=u_i(A^Tu_j^T)=u_i(Au_j^T)=\\lambda_j*u_iu_j^T\n",
    "\\end{eqnarray}\n",
    "$$\n",
    "\n",
    "Since, $i \\neq j$, we have $\\lambda_i \\neq \\lambda_j$ and hence, $u_iu_j^T=0$"
   ]
  },
  {
   "cell_type": "markdown",
   "metadata": {},
   "source": [
    "### 4.1 Inverse Transform"
   ]
  },
  {
   "cell_type": "markdown",
   "metadata": {},
   "source": [
    "Inverse transform is done to retrive the approximated version of original dataset. Since, we know $Y=PX$ so we can find X axxording to $X=P^{-1}Y$. Given that P is a square matrix. Also since `P` is the transformation matrix consist of all eigenvectors, so it is orthogonal (according to [Theorem-2](#Theorem-2)). So inverse of $P$ is $P^{-1}=P^T$ (according to [Theorem-1](#Theorem-1))."
   ]
  },
  {
   "cell_type": "markdown",
   "metadata": {},
   "source": [
    "### 4.1.1 Finding approx. original dataset"
   ]
  },
  {
   "cell_type": "code",
   "execution_count": 55,
   "metadata": {},
   "outputs": [
    {
     "name": "stdout",
     "output_type": "stream",
     "text": [
      "Actual dataset looks like:\n",
      "\n",
      "[[-1.09133619  2.38821102 -0.762724   -1.7262095 ]\n",
      " [-1.38496925 -0.28915559 -0.762724   -1.7262095 ]\n",
      " [-1.67860231  0.78179105 -0.79506108 -1.7262095 ]\n",
      " [-1.82541883  0.24631773 -0.73038691 -1.7262095 ]\n",
      " [-1.23815272  2.92368434 -0.762724   -1.7262095 ]]\n",
      "Approximated dataset looks like:\n",
      "\n",
      "[[-1.09133619  2.38821102 -0.762724   -1.7262095 ]\n",
      " [-1.38496925 -0.28915559 -0.762724   -1.7262095 ]\n",
      " [-1.67860231  0.78179105 -0.79506108 -1.7262095 ]\n",
      " [-1.82541883  0.24631773 -0.73038691 -1.7262095 ]\n",
      " [-1.23815272  2.92368434 -0.762724   -1.7262095 ]]\n"
     ]
    }
   ],
   "source": [
    "# Original dataset approx\n",
    "approx=np.dot(transformed,eig_vect.T)\n",
    "print('Actual dataset looks like:\\n')\n",
    "print(x[:5,:])\n",
    "print('Approximated dataset looks like:\\n')\n",
    "print(approx[:5,:])"
   ]
  },
  {
   "cell_type": "markdown",
   "metadata": {},
   "source": [
    "## 5. Reference"
   ]
  },
  {
   "cell_type": "markdown",
   "metadata": {},
   "source": [
    "[Link to PCA by medium.com](https://medium.com/@aptrishu/understanding-principle-component-analysis-e32be0253ef0)"
   ]
  }
 ],
 "metadata": {
  "kernelspec": {
   "display_name": "Python 3",
   "language": "python",
   "name": "python3"
  },
  "language_info": {
   "codemirror_mode": {
    "name": "ipython",
    "version": 3
   },
   "file_extension": ".py",
   "mimetype": "text/x-python",
   "name": "python",
   "nbconvert_exporter": "python",
   "pygments_lexer": "ipython3",
   "version": "3.6.1"
  }
 },
 "nbformat": 4,
 "nbformat_minor": 2
}
