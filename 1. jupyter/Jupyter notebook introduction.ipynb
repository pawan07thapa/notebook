{
 "cells": [
  {
   "cell_type": "markdown",
   "metadata": {},
   "source": [
    "# Table of content\n",
    "* [1. What is the Jupyter Notebook?](#1.-What-is-the-Jupyter-Notebook?)  \n",
    "  * [1.1 Introduction](#1.1-Introduction)\n",
    "  * [1.2 Components](#1.2-Components)\n",
    "      * [1.2.1 Notebook documents](#1.2.1-Notebook-documents)  \n",
    "  * [1.3 Notebooks and privacy](#1.3-Notebooks-and-privacy)  \n",
    "  * [1.4 Notebook user interface](#1.4-Notebook-user-interface)  \n",
    "* [2. Notebook basics](#2.-Notebook-basics)  \n",
    "  * [2.1 Modal editor](#2.1-Modal-editor)  \n",
    "    * [2.1.1 Edit mode](#2.1.1-Edit-mode)  \n",
    "    * [2.1.2 Command mode](#2.1.2-Command-mode)  \n",
    "  * [2.2 Keyboard Navigation](#2.2-Keyboard-Navigation)  \n",
    "  * [2.3 Run Code](#2.3-Run-Code)  \n",
    "* [3. Using Markdown Cells for Writing](#3.-Using-Markdown-Cells-for-Writing)\n",
    "  * [3.1 Block Elements](#3.1-Block-Elements)\n",
    "    * [3.1.1 Paragraph Breaks and Line Breaks](#3.1.1-Paragraph-Breaks-and-Line-Breaks)\n",
    "    * [3.1.2 Headers](#3.1.2-Headers)\n",
    "    * [3.1.3 Bold and Italics](#3.1.3-Bold-and-Italics)\n",
    "    * [3.1.4 Batch / Bash commands](#3.1.4-Batch-/-Bash-commands)\n",
    "    * [3.1.5 Magic commands](#3.1.5-Magic-commands)\n",
    "    * [3.1.6 Quotation](#3.1.6-Quotation)\n",
    "    * [3.1.7 Lists](#3.1.7-Lists)\n",
    "    * [3.1.8 Section break](#3.1.8-Section-break)\n",
    "    * [3.1.9 Tables](#3.1.9-Tables)\n",
    "    * [3.1.10 Username @mentions, Strikethrough and Other Characters.](#3.1.10-Username-@mentions,-Strikethrough-and-Other-Characters.)\n",
    "    * [3.1.11 Backslash Escape](#3.1.11-Backslash-Escape)\n",
    "    * [3.1.12 Including Code Examples](#3.1.12-Including-Code-Examples)\n",
    "    * [3.1.13 Links](#3.1.13-Links)\n",
    "      * [3.1.13.1 Automatic Links](#3.1.13.1--Automatic-Links)\n",
    "      * [3.1.13.2 Standard Links](#3.1.13.2-Standard-Links)\n",
    "      * [3.1.13.3 Standard Links With Mouse-Over Titles](#3.1.13.3-Standard-Links-With-Mouse-Over-Titles)\n",
    "      * [3.1.13.4 Reference Links](#3.1.13.4-Reference-Links)\n",
    "      * [3.1.13.5 Notebook-Internal Links with mouse hover](#3.1.13.5-Notebook-Internal-Links-with-mouse-hover)\n",
    "      * [3.1.13.6 Images from the Internet](#3.1.13.6-Images-from-the-Internet)\n",
    "    * [3.1.14 HTML Tags](#3.1.14-HTML-Tags)\n",
    "    * [3.1.15 Miscellaneous Tips](#3.1.15-Miscellaneous-Tips)\n",
    "    * [3.1.16 Last Topic](#3.1.16-Last-Topic)"
   ]
  },
  {
   "cell_type": "markdown",
   "metadata": {},
   "source": [
    "# 1. What is the Jupyter Notebook?"
   ]
  },
  {
   "cell_type": "markdown",
   "metadata": {},
   "source": [
    "## 1.1 Introduction"
   ]
  },
  {
   "cell_type": "markdown",
   "metadata": {},
   "source": [
    "The Jupyter Notebook is an **interactive computing environment** that enables users to author notebook documents that include: - Live code - Interactive widgets - Plots - Narrative text - Equations - Images - Video\n",
    "\n",
    "These documents provide a complete and self-contained record of a computation that can be converted to various formats and shared with others using email, Dropbox, version control systems (like git/GitHub) or nbviewer.jupyter.org."
   ]
  },
  {
   "cell_type": "markdown",
   "metadata": {},
   "source": [
    "## 1.2 Components"
   ]
  },
  {
   "cell_type": "markdown",
   "metadata": {},
   "source": [
    "The Jupyter Notebook combines three components:\n",
    "\n",
    "* **The notebook web application:** An interactive web application for writing and running code interactively and authoring notebook documents.\n",
    "* **Kernels:** Separate processes started by the notebook web application that runs users’ code in a given language and returns output back to the notebook web application. The kernel also handles things like computations for interactive widgets, tab completion and introspection.\n",
    "* **Notebook documents:** Self-contained documents that contain a representation of all content visible in the notebook web application, including inputs and outputs of the computations, narrative text, equations, images, and rich media representations of objects. Each notebook document has its own kernel.\n"
   ]
  },
  {
   "cell_type": "markdown",
   "metadata": {},
   "source": [
    "## 1.2.1 Notebook documents"
   ]
  },
  {
   "cell_type": "markdown",
   "metadata": {},
   "source": [
    "When you run the notebook web application on your computer, notebook documents are just **files on your local filesystem with a .ipynb extension**. This allows you to use familiar workflows for organizing your notebooks into folders and sharing them with others.\n",
    "\n",
    "Notebooks consist of a linear sequence of cells. There are four basic cell types:\n",
    "\n",
    "* **Code cells:** Input and output of live code that is run in the kernel\n",
    "* **Markdown cells:** Narrative text with embedded LaTeX equations\n",
    "* **Heading cells:** 6 levels of hierarchical organization and formatting\n",
    "* **Raw cells:** Unformatted text that is included, without modification, when notebooks are converted to different formats using nbconvert\n",
    "\n",
    "Internally, notebook documents are **JSON** <https://en.wikipedia.org/wiki/JSON> data with binary values **base64** <http://en.wikipedia.org/wiki/Base64> encoded. This allows them to be read and manipulated programmatically by any programming language. Because JSON is a text format, *notebook documents are version control friendly.*\n",
    "\n",
    "Notebooks can be exported to **different static formats including HTML, reStructeredText, LaTeX, PDF, and slide shows (reveal.js) using Jupyter’s nbconvert utility.**\n",
    "\n",
    "Furthermore, any notebook document available from a public URL on or GitHub can be shared via nbviewer. This service loads the notebook document from the URL and renders it as a static web page. The resulting web page may thus be shared with others without their needing to install the Jupyter Notebook."
   ]
  },
  {
   "cell_type": "markdown",
   "metadata": {},
   "source": [
    "## 1.3 Notebooks and privacy"
   ]
  },
  {
   "cell_type": "markdown",
   "metadata": {},
   "source": [
    "Because you use Jupyter in a web browser, some people are understandably concerned about using it with sensitive data. However, if you followed the standard install instructions, **Jupyter is actually running on your own computer.** If the URL in the address bar starts with http://localhost: or http://127.0.0.1:, **it’s your computer acting as the server.** Jupyter doesn’t send your data anywhere else."
   ]
  },
  {
   "cell_type": "markdown",
   "metadata": {},
   "source": [
    "## 1.4 Notebook user interface"
   ]
  },
  {
   "cell_type": "markdown",
   "metadata": {},
   "source": [
    "When you create a new notebook document, you will be presented with the **notebook name, a menu bar, a toolbar and an empty code cell.**"
   ]
  },
  {
   "cell_type": "markdown",
   "metadata": {},
   "source": [
    "![notebook user interface image](https://jupyter-notebook.readthedocs.io/en/stable/_images/blank-notebook-ui.png)"
   ]
  },
  {
   "cell_type": "markdown",
   "metadata": {},
   "source": [
    "**Notebook name:** The name displayed at the top of the page, next to the Jupyter logo, reflects the name of the .ipynb file. Clicking on the notebook name brings up a dialog which allows you to rename it. Thus, renaming a notebook from “Untitled” to “My first notebook” in the browser, renames the Untitled.ipynb file to My first notebook.ipynb.\n",
    "\n",
    "**Menu bar:** The menu bar presents different options that may be used to manipulate the way the notebook functions.\n",
    "\n",
    "**Toolbar:** The tool bar gives a quick way of performing the most-used operations within the notebook, by clicking on an icon.\n",
    "\n",
    "**Code cell:** the default type of cell."
   ]
  },
  {
   "cell_type": "markdown",
   "metadata": {},
   "source": [
    "# 2. Notebook basics"
   ]
  },
  {
   "cell_type": "markdown",
   "metadata": {},
   "source": [
    "## 2.1 Modal editor"
   ]
  },
  {
   "cell_type": "markdown",
   "metadata": {},
   "source": [
    "There are two modes: **edit mode** and **command mode**"
   ]
  },
  {
   "cell_type": "markdown",
   "metadata": {},
   "source": [
    "### 2.1.1 Edit mode"
   ]
  },
  {
   "cell_type": "markdown",
   "metadata": {},
   "source": [
    "![edit mode image](https://jupyter-notebook.readthedocs.io/en/stable/_images/edit_mode.png \"edit mode image\")"
   ]
  },
  {
   "cell_type": "markdown",
   "metadata": {},
   "source": [
    "Edit mode is indicated by a **green cell border** and a prompt showing in the editor area.When a cell is in edit mode, you can type into the cell, like a normal text editor. Enter edit mode by pressing **Enter or using the mouse to click on a cell’s editor area.**"
   ]
  },
  {
   "cell_type": "markdown",
   "metadata": {},
   "source": [
    "### 2.1.2 Command mode"
   ]
  },
  {
   "cell_type": "markdown",
   "metadata": {},
   "source": [
    "![command mode image](https://jupyter-notebook.readthedocs.io/en/stable/_images/command_mode.png \"command mode image\")"
   ]
  },
  {
   "cell_type": "markdown",
   "metadata": {},
   "source": [
    "Command mode is indicated by a grey cell border with a **blue left margin**. When you are in command mode, you are able to edit the notebook as a whole, but not type into individual cells. Most importantly, in command mode, the keyboard is mapped to a set of shortcuts that let you perform notebook and cell actions efficiently. For example, if you are in command mode and you press c, you will copy the current cell - no modifier is needed. Enter command mode by **pressing Esc or using the mouse to click outside a cell’s editor area.**"
   ]
  },
  {
   "cell_type": "markdown",
   "metadata": {},
   "source": [
    "## 2.2 Keyboard Navigation"
   ]
  },
  {
   "cell_type": "markdown",
   "metadata": {},
   "source": [
    "The most important keyboard shortcuts are **Enter**, which enters edit mode, and **Esc**, which enters command mode.\n",
    "The **Help->Keyboard Shortcuts** dialog lists the available shortcuts.\n",
    "We recommend learning the command mode shortcuts in the following rough order:\n",
    "\n",
    "1. Basic navigation: enter, shift-enter, up/k, down/j\n",
    "2. Saving the notebook: s\n",
    "3. Change Cell types: y, m, 1-6, t\n",
    "4. Cell creation: a, b\n",
    "5. Cell editing: x, c, v, d, z\n",
    "6. Kernel operations: i, 0 (press twice)\n",
    "\n"
   ]
  },
  {
   "cell_type": "markdown",
   "metadata": {},
   "source": [
    "## 2.3 Run Code"
   ]
  },
  {
   "cell_type": "markdown",
   "metadata": {},
   "source": [
    "There are 3 ways to run a cell and they are:\n",
    "1. **Shift+Enter:** Runs current cell and selects next cell for execution.\n",
    "2. **Alt+Enter:** runs the current cell and inserts a new one below.\n",
    "3. **Ctrl+Enter:** run the current cell and enters command mode.\n"
   ]
  },
  {
   "cell_type": "markdown",
   "metadata": {},
   "source": [
    "# 3. Using Markdown Cells for Writing"
   ]
  },
  {
   "cell_type": "markdown",
   "metadata": {},
   "source": [
    "## 3.1 Block Elements"
   ]
  },
  {
   "cell_type": "markdown",
   "metadata": {},
   "source": [
    "### 3.1.1 Paragraph Breaks and Line Breaks"
   ]
  },
  {
   "cell_type": "markdown",
   "metadata": {},
   "source": [
    "Paragraphs consist of one or more consecutive lines of text and they are separated by one or more blank lines. If a line contains only spaces, it is a blank line.\n",
    "\n",
    "**Line break:** Suppose we have multiple lines to be written as:\n",
    "<pre>\n",
    "This is sentence 1.\n",
    "This is sentence 2.\n",
    "</pre>\n",
    "\n",
    "But it outputs like:  \n",
    "This is sentence 1.\n",
    "This is sentence 2.\n",
    "\n",
    "To make each sentence appear in each line, **just add 2 spaces after each line** i.e,\n",
    "<pre>\n",
    "This is sentence 1.??\n",
    "This is sentence 2.??\n",
    "</pre>\n",
    "where each **? is replaced with a space** and on doing so, we get following output:  \n",
    "This is sentence 1.  \n",
    "This is sentence 2.  "
   ]
  },
  {
   "cell_type": "markdown",
   "metadata": {},
   "source": [
    "### 3.1.2 Headers"
   ]
  },
  {
   "cell_type": "markdown",
   "metadata": {},
   "source": [
    "Sometimes it's useful to have different levels of headings to structure your documents. Start lines with a **#** to create headings. Multiple **##** in a row denote smaller heading sizes.\n",
    "\n",
    "<pre> ### This is a third-tier heading </pre>\n",
    "### This is a third-tier heading\n",
    "\n",
    "You can use one **#** all the way up to **######** six for different heading sizes."
   ]
  },
  {
   "cell_type": "markdown",
   "metadata": {},
   "source": [
    "### 3.1.3 Bold and Italics"
   ]
  },
  {
   "cell_type": "markdown",
   "metadata": {},
   "source": [
    "Text can be made **bold** by inserting text between \\*\\* or \\_\\_.  \n",
    "**Eg:** This is **bold** and __bold__.  \n",
    "Text can be made *italics* by inserting text between \\* or \\_.  \n",
    "**Eg:** This is *italics* and _italics_."
   ]
  },
  {
   "cell_type": "markdown",
   "metadata": {},
   "source": [
    "### 3.1.4 Batch / Bash commands"
   ]
  },
  {
   "cell_type": "markdown",
   "metadata": {},
   "source": [
    "To execute bash/batch commands **in code cell**, we start it with **Exclamation point**.  \n",
    "For example:\n",
    "```bash\n",
    "!dir\n",
    "```\n",
    "On doing so we get the output as:"
   ]
  },
  {
   "cell_type": "code",
   "execution_count": 2,
   "metadata": {},
   "outputs": [
    {
     "name": "stdout",
     "output_type": "stream",
     "text": [
      " Volume in drive C is OS\n",
      " Volume Serial Number is 9A43-8761\n",
      "\n",
      " Directory of C:\\Users\\DELL\\Desktop\\notebook\n",
      "\n",
      "01/02/2019  12:03    <DIR>          .\n",
      "01/02/2019  12:03    <DIR>          ..\n",
      "01/01/2019  13:35    <DIR>          .ipynb_checkpoints\n",
      "01/02/2019  13:51    <DIR>          jupyter\n",
      "01/02/2019  12:03            10,437 Untitled.ipynb\n",
      "               1 File(s)         10,437 bytes\n",
      "               4 Dir(s)  60,394,336,256 bytes free\n"
     ]
    }
   ],
   "source": [
    "!dir"
   ]
  },
  {
   "cell_type": "markdown",
   "metadata": {},
   "source": [
    "### 3.1.5 Magic commands"
   ]
  },
  {
   "cell_type": "markdown",
   "metadata": {},
   "source": [
    "The **magic commands** are written in code cells and they follow 1 % sign or 2 % signs.  \n",
    "Single % signs means all the **arguments of the this commands comes from that same line hence called line magics**, while 2 % signs means all **arguments of the that magic commands comes fromthat cell hence called cell magics.**\n",
    "\n",
    "To list all the magic commands (line magics as well as cell magics) available, we use `%lsmagic` command.\n",
    "\n",
    "Some of the important line magics are:  \n",
    "**`%pwd`**: It shows the current working directory  \n",
    "**`%ls`**: It list all files and folders in that directory.  \n",
    "**`%matplotlib inline`**: It allows matplotlib charts to be displayed in the notebook\n",
    "\n",
    "Some important cell magics are:  \n",
    "**`%%HTML`**: It will render all the code in the cell as HTML code.  \n",
    "**`%%javascript`**: It will render all the code in the cell as javascript code.  \n",
    "**`%%bash`**: It will render all the code in the cell as bash code.  \n",
    "**`%%timeit`**: It calculates the execution time for the that entire cell.  "
   ]
  },
  {
   "cell_type": "code",
   "execution_count": 3,
   "metadata": {},
   "outputs": [
    {
     "data": {
      "application/json": {
       "cell": {
        "!": "OSMagics",
        "HTML": "Other",
        "SVG": "Other",
        "bash": "Other",
        "capture": "ExecutionMagics",
        "cmd": "Other",
        "debug": "ExecutionMagics",
        "file": "Other",
        "html": "DisplayMagics",
        "javascript": "DisplayMagics",
        "js": "DisplayMagics",
        "latex": "DisplayMagics",
        "perl": "Other",
        "prun": "ExecutionMagics",
        "pypy": "Other",
        "python": "Other",
        "python2": "Other",
        "python3": "Other",
        "ruby": "Other",
        "script": "ScriptMagics",
        "sh": "Other",
        "svg": "DisplayMagics",
        "sx": "OSMagics",
        "system": "OSMagics",
        "time": "ExecutionMagics",
        "timeit": "ExecutionMagics",
        "writefile": "OSMagics"
       },
       "line": {
        "alias": "OSMagics",
        "alias_magic": "BasicMagics",
        "autocall": "AutoMagics",
        "automagic": "AutoMagics",
        "autosave": "KernelMagics",
        "bookmark": "OSMagics",
        "cd": "OSMagics",
        "clear": "KernelMagics",
        "cls": "KernelMagics",
        "colors": "BasicMagics",
        "config": "ConfigMagics",
        "connect_info": "KernelMagics",
        "copy": "Other",
        "ddir": "Other",
        "debug": "ExecutionMagics",
        "dhist": "OSMagics",
        "dirs": "OSMagics",
        "doctest_mode": "BasicMagics",
        "echo": "Other",
        "ed": "Other",
        "edit": "KernelMagics",
        "env": "OSMagics",
        "gui": "BasicMagics",
        "hist": "Other",
        "history": "HistoryMagics",
        "killbgscripts": "ScriptMagics",
        "ldir": "Other",
        "less": "KernelMagics",
        "load": "CodeMagics",
        "load_ext": "ExtensionMagics",
        "loadpy": "CodeMagics",
        "logoff": "LoggingMagics",
        "logon": "LoggingMagics",
        "logstart": "LoggingMagics",
        "logstate": "LoggingMagics",
        "logstop": "LoggingMagics",
        "ls": "Other",
        "lsmagic": "BasicMagics",
        "macro": "ExecutionMagics",
        "magic": "BasicMagics",
        "matplotlib": "PylabMagics",
        "mkdir": "Other",
        "more": "KernelMagics",
        "notebook": "BasicMagics",
        "page": "BasicMagics",
        "pastebin": "CodeMagics",
        "pdb": "ExecutionMagics",
        "pdef": "NamespaceMagics",
        "pdoc": "NamespaceMagics",
        "pfile": "NamespaceMagics",
        "pinfo": "NamespaceMagics",
        "pinfo2": "NamespaceMagics",
        "popd": "OSMagics",
        "pprint": "BasicMagics",
        "precision": "BasicMagics",
        "profile": "BasicMagics",
        "prun": "ExecutionMagics",
        "psearch": "NamespaceMagics",
        "psource": "NamespaceMagics",
        "pushd": "OSMagics",
        "pwd": "OSMagics",
        "pycat": "OSMagics",
        "pylab": "PylabMagics",
        "qtconsole": "KernelMagics",
        "quickref": "BasicMagics",
        "recall": "HistoryMagics",
        "rehashx": "OSMagics",
        "reload_ext": "ExtensionMagics",
        "ren": "Other",
        "rep": "Other",
        "rerun": "HistoryMagics",
        "reset": "NamespaceMagics",
        "reset_selective": "NamespaceMagics",
        "rmdir": "Other",
        "run": "ExecutionMagics",
        "save": "CodeMagics",
        "sc": "OSMagics",
        "set_env": "OSMagics",
        "store": "StoreMagics",
        "sx": "OSMagics",
        "system": "OSMagics",
        "tb": "ExecutionMagics",
        "time": "ExecutionMagics",
        "timeit": "ExecutionMagics",
        "unalias": "OSMagics",
        "unload_ext": "ExtensionMagics",
        "who": "NamespaceMagics",
        "who_ls": "NamespaceMagics",
        "whos": "NamespaceMagics",
        "xdel": "NamespaceMagics",
        "xmode": "BasicMagics"
       }
      },
      "text/plain": [
       "Available line magics:\n",
       "%alias  %alias_magic  %autocall  %automagic  %autosave  %bookmark  %cd  %clear  %cls  %colors  %config  %connect_info  %copy  %ddir  %debug  %dhist  %dirs  %doctest_mode  %echo  %ed  %edit  %env  %gui  %hist  %history  %killbgscripts  %ldir  %less  %load  %load_ext  %loadpy  %logoff  %logon  %logstart  %logstate  %logstop  %ls  %lsmagic  %macro  %magic  %matplotlib  %mkdir  %more  %notebook  %page  %pastebin  %pdb  %pdef  %pdoc  %pfile  %pinfo  %pinfo2  %popd  %pprint  %precision  %profile  %prun  %psearch  %psource  %pushd  %pwd  %pycat  %pylab  %qtconsole  %quickref  %recall  %rehashx  %reload_ext  %ren  %rep  %rerun  %reset  %reset_selective  %rmdir  %run  %save  %sc  %set_env  %store  %sx  %system  %tb  %time  %timeit  %unalias  %unload_ext  %who  %who_ls  %whos  %xdel  %xmode\n",
       "\n",
       "Available cell magics:\n",
       "%%!  %%HTML  %%SVG  %%bash  %%capture  %%cmd  %%debug  %%file  %%html  %%javascript  %%js  %%latex  %%perl  %%prun  %%pypy  %%python  %%python2  %%python3  %%ruby  %%script  %%sh  %%svg  %%sx  %%system  %%time  %%timeit  %%writefile\n",
       "\n",
       "Automagic is ON, % prefix IS NOT needed for line magics."
      ]
     },
     "execution_count": 3,
     "metadata": {},
     "output_type": "execute_result"
    }
   ],
   "source": [
    "%lsmagic"
   ]
  },
  {
   "cell_type": "markdown",
   "metadata": {},
   "source": [
    "### 3.1.6 Quotation"
   ]
  },
  {
   "cell_type": "markdown",
   "metadata": {},
   "source": [
    "If you'd like to quote someone, use the `>` character before the line. The quotes can also be nested by adding multiple `>` characters.  \n",
    "**For Example:**    \n",
    "> Is life worth living, it depends upon the liver.\n",
    ">>  Deepanjan Saha"
   ]
  },
  {
   "cell_type": "markdown",
   "metadata": {},
   "source": [
    "### 3.1.7 Lists"
   ]
  },
  {
   "cell_type": "markdown",
   "metadata": {},
   "source": [
    "**The following:**  \n",
    "<tt>\n",
    "Sometimes you want numbered lists:  \n",
    "1. One  \n",
    "2. Two  \n",
    "3. Three  \n",
    "\n",
    "The numbering is not necessary to be in order. For Example:  \n",
    "1. One  \n",
    "1. Two  \n",
    "1. Three  \n",
    "\n",
    "Sometimes you want bullet points:  \n",
    "* Start a line with a star  \n",
    "* Profit!  \n",
    "Alternatively,  \n",
    "- Dashes work just as well  \n",
    "- And if you have sub points, put two spaces before the dash or star:  \n",
    "  - Like this  \n",
    "  - And this  \n",
    "</tt>"
   ]
  },
  {
   "cell_type": "markdown",
   "metadata": {},
   "source": [
    "**will result in:**  \n",
    "Sometimes you want numbered lists:\n",
    "1. One\n",
    "2. Two\n",
    "3. Three\n",
    "\n",
    "The numbering is not necessary to be in order. For Example:  \n",
    "1. One\n",
    "1. Two\n",
    "1. Three\n",
    "\n",
    "Sometimes you want bullet points:\n",
    "\n",
    "* Start a line with a star\n",
    "* Profit!\n",
    "\n",
    "Alternatively,\n",
    "\n",
    "- Dashes work just as well\n",
    "- And if you have sub points, put two spaces before the dash or star:\n",
    "  - Like this\n",
    "  - And this"
   ]
  },
  {
   "cell_type": "markdown",
   "metadata": {},
   "source": [
    "### 3.1.8 Section break"
   ]
  },
  {
   "cell_type": "markdown",
   "metadata": {},
   "source": [
    "Content within the cell can be separated into different section by adding **3 underscores (_), or 3 asterisk (*).**\n",
    "**For example:**  \n",
    "content of section 1\n",
    "***\n",
    "content of section 2\n",
    "<center> **Or** </center>\n",
    "content of section 1\n",
    "___\n",
    "content of section 2"
   ]
  },
  {
   "cell_type": "markdown",
   "metadata": {},
   "source": [
    "### 3.1.9 Tables"
   ]
  },
  {
   "cell_type": "markdown",
   "metadata": {},
   "source": [
    "You can create tables by assembling a list of words and dividing them with hyphens `-` (for the first row), and then separating each column with a pipe `|`. For example:"
   ]
  },
  {
   "cell_type": "markdown",
   "metadata": {},
   "source": [
    "<pre>\n",
    "|Header|Header|Header|Header|\n",
    "|------|------|------|------|\n",
    "|Cell  |Cell  |Cell  | Cell |\n",
    "|Cell  |Cell  |Cell  | Cell |\n",
    "|Cell  |Cell  |Cell  | Cell |\n",
    "|Cell  |Cell  |Cell  | Cell |\n",
    "</pre>\n",
    "However, you don't need to include all of those dashes, vertical bars, and spaces for Markdown to understand that you're making a table. Here's the bare minimum you would need to create the same table is:  \n",
    "<pre>\n",
    "Header|Header|Header|Header\n",
    "-|-|-|-\n",
    "Cell|Cell|Cell|Cell\n",
    "Cell|Cell|Cell|Cell\n",
    "Cell|Cell|Cell|Cell\n",
    "Cell|Cell|Cell|Cell\n",
    "</pre>\n",
    "It's important to note that the second line of dashes and vertical bars is essential. If you have just the line of headers and the second line of dashes and vertical bars, that's enough for Markdown to make a table.  \n"
   ]
  },
  {
   "cell_type": "markdown",
   "metadata": {},
   "source": [
    "|Header|Header|Header|Header|\n",
    "|------|------|------|------|\n",
    "|Cell  |Cell  |Cell  | Cell |\n",
    "|Cell  |Cell  |Cell  | Cell |\n",
    "|Cell  |Cell  |Cell  | Cell |\n",
    "|Cell  |Cell  |Cell  | Cell |"
   ]
  },
  {
   "cell_type": "markdown",
   "metadata": {},
   "source": [
    "### 3.1.10 Username @mentions, Strikethrough and Other Characters."
   ]
  },
  {
   "cell_type": "markdown",
   "metadata": {},
   "source": [
    "Typing an `@` symbol, followed by a username, will notify that person to come and view the comment. This is called an **“@mention”**, because you’re mentioning the individual. You can also `@mention` teams within an organization.  \n",
    "For example: @Deepanjan  \n",
    "\n",
    "Any word wrapped with two tildes (like \\~\\~this\\~\\~) will appear crossed out. For example:  \n",
    "~~I want this sentence to be in this para, but if it is to be striked off, then why not delete this line.~~\n",
    "\n",
    "Jupyter notebook supports some special characters, same way as the HTML does. For example:\n",
    "* **Ampersand:** &amp;\n",
    "* **angle brackets:** &lt; &gt;\n",
    "* **quotes:** &quot; \n"
   ]
  },
  {
   "cell_type": "markdown",
   "metadata": {},
   "source": [
    "### 3.1.11 Backslash Escape"
   ]
  },
  {
   "cell_type": "markdown",
   "metadata": {},
   "source": [
    "Markdown allows you to use a backslash to escape from the functions of the following characters:\n",
    "* \\   backslash\n",
    "* `   backtick\n",
    "* \\*   asterisk\n",
    "* _   underscore\n",
    "* {}  curly braces\n",
    "* []  square brackets\n",
    "* ()  parentheses\n",
    "* \\#   hashtag\n",
    "* \\+   plus sign|\n",
    "* \\-   minus sign (hyphen)\n",
    "* .   dot\n",
    "* !   exclamation mark"
   ]
  },
  {
   "cell_type": "markdown",
   "metadata": {},
   "source": [
    "### 3.1.12 Including Code Examples"
   ]
  },
  {
   "cell_type": "markdown",
   "metadata": {},
   "source": [
    "If you want to signify that a particular section of text is actually an example of code, you can use backquotes to surround the code example. These will switch the font to monospace, which creates a clear visual formatting difference between the text that is meant to be code and the text that isn't. \n",
    "\n",
    "Code can either in the middle of a paragraph, or as a block. **Use a single backquote to start and stop code in the middle of a paragraph.** Here's an example:  \n",
    "Let us assume value of variable `x` is `5` i.e, `x=5`.  \n",
    "**To include a complete code-block inside a Markdown cell, use triple backquotes**. Optionally, you can put the name of the language that you are quoting after the starting triple backquotes, like this:  \n",
    "```python\n",
    "def function(n):\n",
    "    return n + 1\n",
    "```\n"
   ]
  },
  {
   "cell_type": "markdown",
   "metadata": {},
   "source": [
    "### 3.1.13 Links"
   ]
  },
  {
   "cell_type": "markdown",
   "metadata": {},
   "source": [
    "#### 3.1.13.1  Automatic Links\n",
    "For example:  \n",
    "http://en.wikipedia.org  \n",
    "http://google.com\n",
    "\n",
    "#### 3.1.13.2 Standard Links\n",
    "For example:  \n",
    "[click this link](http://en.wikipedia.org)\n",
    "\n",
    "#### 3.1.13.3 Standard Links With Mouse-Over Titles\n",
    "For example:  \n",
    "[click this link](http://en.wikipedia.org \"Wikipedia\")\n",
    "\n",
    "#### 3.1.13.4 Reference Links\n",
    "For example:  \n",
    "Inside a paragraph, we can have link to [wikipedia][] or [google][google link] and not have the complete URL of website mentioned in the body, instead mention it at the end of content.\n",
    "\n",
    "[wikipedia]: http://en.wikipedia.org\n",
    "[google link]: http://google.com\n",
    "\n",
    "#### 3.1.13.5 Notebook-Internal Links with mouse hover\n",
    "When you **create a Header you also create a discrete location within your Notebook**. This means that, just like you can link to a specific location on the web, you can also link to a Header Cell inside your Notebook. Internal links have very similar Markdown formatting to regular links. **The only difference is that the name of the link, which is the URL in the case of external links, is just a hashtag plus the name of the Header Cell you are linking to (case-sensitive) with dashes in between every word.** If you hover your mouse over a Header Cell, a blue Greek pi letter will appear next to your title. If you click on it, the URL at the top of your window will change and the internal link to that section will appear last in the address. You can copy and paste it in order to make an internal link inside a Markdown Cell.  \n",
    "For expample:  \n",
    "[link to top of the notebook](#1.-What-is-the-Jupyter-Notebook? \"Top\")\n",
    "\n",
    "#### 3.1.13.6 Images from the Internet\n",
    "Inserting an image from the internet is **almost identical to inserting a link.** You just got to **type a ! before the first set of brackets.** Images also support ** text when hovering of mouse, reference links and load images from computer or internet**.For example:  \n",
    "![Alternate text, if image does not show up](logo.png \"Best Hollywood movie ever\")"
   ]
  },
  {
   "cell_type": "markdown",
   "metadata": {},
   "source": [
    "### 3.1.14 HTML Tags"
   ]
  },
  {
   "cell_type": "markdown",
   "metadata": {},
   "source": [
    "All usual HTML Tags are applicable in jupyter notebook."
   ]
  },
  {
   "cell_type": "markdown",
   "metadata": {},
   "source": [
    "### 3.1.15 Miscellaneous Tips"
   ]
  },
  {
   "cell_type": "markdown",
   "metadata": {},
   "source": [
    "#### Mathematical symbols:\n",
    "Insert the equations inside **2 dollar signs (\\$) **:    \n",
    "For example: $2x+3y=5$"
   ]
  },
  {
   "cell_type": "markdown",
   "metadata": {},
   "source": [
    "#### Colors: \n",
    "Use this code: <font color=blue> Blue coloured Text</font>, <font color=red> Red coloured Text</font> , <font color=green> Green coloured Text</font>.  \n",
    "Not all markdown code works within a font tag, so review your colored text carefully!"
   ]
  },
  {
   "cell_type": "markdown",
   "metadata": {},
   "source": [
    "#### Use of coloured boxes.\n",
    "<div class=\"alert alert-block alert-info\">\n",
    "<b>Tip:</b> Use blue boxes (alert-info) for tips and notes. \n",
    "If it’s a note, you don’t have to include the word “Note”.\n",
    "</div>\n",
    "<div class=\"alert alert-block alert-warning\">\n",
    "<b>Example:</b> Use yellow boxes for examples that are not \n",
    "inside code cells, or use for mathematical formulas if needed.\n",
    "</div>\n",
    "<div class=\"alert alert-block alert-success\">\n",
    "<b>Up to you:</b> Use green boxes sparingly, and only for some specific \n",
    "purpose that the other boxes can't cover. For example, if you have a lot \n",
    "of related content to link to, maybe you decide to use green boxes for \n",
    "related links from each section of a notebook.\n",
    "</div>\n",
    "<div class=\"alert alert-block alert-danger\">\n",
    "<b>Just don't:</b> In general, avoid the red boxes. These should only be\n",
    "used for actions that might cause data loss or another major issue.\n",
    "</div>"
   ]
  },
  {
   "cell_type": "markdown",
   "metadata": {},
   "source": [
    "### 3.1.16 Last Topic"
   ]
  },
  {
   "cell_type": "markdown",
   "metadata": {},
   "source": [
    "All important things are discussed here, but not everything. So, here are the reference to **jupyter galleries**.  \n",
    "[Galleries of jupyter notebook](https://github.com/jupyter/jupyter/wiki/A-gallery-of-interesting-Jupyter-Notebooks)"
   ]
  }
 ],
 "metadata": {
  "kernelspec": {
   "display_name": "Python 3",
   "language": "python",
   "name": "python3"
  },
  "language_info": {
   "codemirror_mode": {
    "name": "ipython",
    "version": 3
   },
   "file_extension": ".py",
   "mimetype": "text/x-python",
   "name": "python",
   "nbconvert_exporter": "python",
   "pygments_lexer": "ipython3",
   "version": "3.6.1"
  }
 },
 "nbformat": 4,
 "nbformat_minor": 2
}
