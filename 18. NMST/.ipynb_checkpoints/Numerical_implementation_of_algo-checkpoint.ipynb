{
 "cells": [
  {
   "cell_type": "markdown",
   "metadata": {},
   "source": [
    "# Cumputer Oriented Numerical Method (book name)"
   ]
  },
  {
   "cell_type": "markdown",
   "metadata": {},
   "source": [
    "### Solving 2-variable equation:(Page No. 1)"
   ]
  },
  {
   "cell_type": "code",
   "execution_count": 1,
   "metadata": {},
   "outputs": [
    {
     "name": "stdout",
     "output_type": "stream",
     "text": [
      "Set of coefficients were:\n",
      " [[ 2.  3.  4.]\n",
      " [ 1.  2.  3.]]\n",
      "result: x=-1.0 and y=2.0\n"
     ]
    }
   ],
   "source": [
    "import numpy as np\n",
    "\n",
    "def solve1(eq0,eq1):\n",
    "    coeff = np.zeros((2,3),dtype=np.float16)\n",
    "    row,col = coeff.shape\n",
    "    coeff[0]=eq0\n",
    "    coeff[1]=eq1\n",
    "#     coeff[0]=[1,2,3]\n",
    "#     coeff[1]=[2,3,4]\n",
    "#     coeff[0]=[float(i) for i in input('Enter coefficients for 1st equation:\\n').split(' ')]\n",
    "#     coeff[1]=[float(i) for i in input('Enter coefficients for 2nd equation:\\n').split(' ')]\n",
    "\n",
    "    if coeff[0,1]*coeff[1,0] > coeff[0,0]*coeff[1,1]:\n",
    "        for c in range(col):\n",
    "            coeff[0,c],coeff[1,c]=coeff[1,c],coeff[0,c]\n",
    "\n",
    "    print('Set of coefficients were:\\n {}'.format(coeff))\n",
    "\n",
    "    coeff[1,1]-=coeff[1,0]*coeff[0,1]/coeff[0,0]\n",
    "    coeff[1,2]-=coeff[1,0]*coeff[0,2]/coeff[0,0]\n",
    "\n",
    "    if coeff[1,1]<0.000001:\n",
    "        print('No solution')\n",
    "        return\n",
    "\n",
    "    y=coeff[1,2]/coeff[1,1]\n",
    "    x=(coeff[0,2]-coeff[0,1]*y)/coeff[0,0]\n",
    "\n",
    "    print('result: x={} and y={}'.format(x,y))\n",
    "    return\n",
    "\n",
    "solve1([1,2,3],[2,3,4])"
   ]
  },
  {
   "cell_type": "code",
   "execution_count": 34,
   "metadata": {},
   "outputs": [
    {
     "data": {
      "text/plain": [
       "array([[ 5.,  6.,  7.],\n",
       "       [ 2.,  3.,  4.]], dtype=float16)"
      ]
     },
     "execution_count": 34,
     "metadata": {},
     "output_type": "execute_result"
    }
   ],
   "source": [
    "coeff"
   ]
  },
  {
   "cell_type": "markdown",
   "metadata": {},
   "source": [
    "### Solving the fibonacci series: (Page No. 6)"
   ]
  },
  {
   "cell_type": "code",
   "execution_count": 44,
   "metadata": {},
   "outputs": [
    {
     "name": "stdout",
     "output_type": "stream",
     "text": [
      "enter initial values:\n",
      "1 2\n",
      "enter number of terms:\n",
      "2\n",
      "1.0\n",
      "2.0\n"
     ]
    }
   ],
   "source": [
    "n1,n2=[float(i) for i in input('enter initial values:\\n').split(' ')]\n",
    "n=int(input('enter number of terms:\\n'))\n",
    "if n>=1:\n",
    "    print(n1)\n",
    "if n>=2:\n",
    "    print(n2)\n",
    "if n>2:\n",
    "    for i in range(2,n):\n",
    "        n1,n2=n2,n1+n2\n",
    "        print(n2)"
   ]
  },
  {
   "cell_type": "markdown",
   "metadata": {},
   "source": [
    "### Generating values for infinite series expansion (till finite terms) (Page No. 9)"
   ]
  },
  {
   "cell_type": "markdown",
   "metadata": {},
   "source": [
    "#### Method: 1"
   ]
  },
  {
   "cell_type": "code",
   "execution_count": 55,
   "metadata": {},
   "outputs": [
    {
     "name": "stdout",
     "output_type": "stream",
     "text": [
      "0.8333333333333334\n"
     ]
    }
   ],
   "source": [
    "# x,n = [float(i) for i in input('Enter x and n:\\n').split(' ')]\n",
    "x,n = 1,2\n",
    "n = int(n)\n",
    "term,res=x,x\n",
    "for i in range(1,n):\n",
    "    term = -1*x*x*term/(2*i*(2*i+1))\n",
    "    res += term\n",
    "print(res)"
   ]
  },
  {
   "cell_type": "markdown",
   "metadata": {},
   "source": [
    "#### Method: 2"
   ]
  },
  {
   "cell_type": "code",
   "execution_count": 54,
   "metadata": {},
   "outputs": [
    {
     "name": "stdout",
     "output_type": "stream",
     "text": [
      "0.8333333333333334\n"
     ]
    }
   ],
   "source": [
    "# x,n = [float(i) for i in input('Enter x and n:\\n').split(' ')]\n",
    "x,n = 1,2\n",
    "n = int(n)\n",
    "if n==1:\n",
    "    print(x)\n",
    "else:\n",
    "    n-=1\n",
    "    res=-1*x*x/(2*n*(2*n+1))\n",
    "    for i in range(n-1,0,-1):\n",
    "        res+=1\n",
    "        res*=-1*x*x/(2*i*(2*i+1))\n",
    "    res+=1\n",
    "    res*=x\n",
    "    print(res)"
   ]
  },
  {
   "cell_type": "markdown",
   "metadata": {
    "collapsed": true
   },
   "source": [
    "### Polynomial division (Page No. 11)"
   ]
  },
  {
   "cell_type": "code",
   "execution_count": 9,
   "metadata": {},
   "outputs": [
    {
     "name": "stdout",
     "output_type": "stream",
     "text": [
      "Quotient is:\n",
      "[0.25, 1.5]\n"
     ]
    }
   ],
   "source": [
    "def divide(a,b):\n",
    "\n",
    "    n=len(a)-1\n",
    "    r=len(b)-1\n",
    "\n",
    "    if r>n:\n",
    "        return\n",
    "    Q=[0 for i in range(n-r+1)]\n",
    "    for i in range(n-r+1):\n",
    "        Q[n-r-i]=a[n-i]\n",
    "        for j in range(i):\n",
    "            if j not in range(r):\n",
    "                break\n",
    "            Q[n-r-i]-=Q[n-r-j]*b[r-i+j]\n",
    "        Q[n-r-i]/=b[r]\n",
    "    return Q\n",
    "# Constant coefficient first\n",
    "# a=[float(i) for i in input('Enter coefficients ai:\\n').split(' ')]\n",
    "# b=[float(i) for i in input('Enter coefficients bi:\\n').split(' ')]\n",
    "a=[1,2,3]\n",
    "b=[1,2]\n",
    "Q=divide(a,b)\n",
    "print('Quotient is:\\n{}'.format(Q))"
   ]
  },
  {
   "cell_type": "markdown",
   "metadata": {},
   "source": [
    "### Polynomial roots: (Chapter 3)"
   ]
  },
  {
   "cell_type": "code",
   "execution_count": 23,
   "metadata": {},
   "outputs": [
    {
     "name": "stdout",
     "output_type": "stream",
     "text": [
      "5.315713091163068 3.2568056675624177 10.606601717798213\n",
      "5.012230067357141 0.12245024811896954 10.606601717798213\n",
      "5.000135570812173 0.0013557265011741038 10.606601717798213\n",
      "result 5.000135570812173\n"
     ]
    }
   ],
   "source": [
    "import math\n",
    "\n",
    "# Constant coefficient first\n",
    "# a=[float(i) for i in input('Enter coefficients ai:\\n').split(' ')]\n",
    "a=[-25,0,1]\n",
    "\n",
    "n=len(a)-1\n",
    "s_range=math.sqrt((a[n-1]/a[n])**2-2*(a[n-2]/a[n]))\n",
    "# print(s_range)\n",
    "\n",
    "def f(a,x):\n",
    "    n=len(a)-1\n",
    "    res=0\n",
    "    for i in range(n+1):\n",
    "        res+=a[i]*math.pow(x,i)\n",
    "    return res\n",
    "\n",
    "n1,n2=-s_range,s_range\n",
    "\n",
    "def bisection_method(n1,n2,f1,f2):\n",
    "    mid=(n1+n2)/2\n",
    "    f_mid=f(a,mid)\n",
    "    if f1*f_mid<0:\n",
    "        return n1,mid\n",
    "    elif f2*f_mid<0:\n",
    "        return n2,mid\n",
    "    elif abs(f1)>abs(f_mid):\n",
    "        return n2,mid\n",
    "    elif abs(f2)>abs(f_mid):\n",
    "        return n1,mid\n",
    "    \n",
    "def false_position_method(n1,n2,f1,f2):\n",
    "    if abs(f1-f2)<0.1:\n",
    "        mid=(n1+n2)/2\n",
    "    else:\n",
    "        mid=(n1*f2-n2*f1)/(f2-f1)\n",
    "    f_mid=f(a,mid)\n",
    "    if f1*f_mid<0:\n",
    "        return n1,mid\n",
    "    elif f2*f_mid<0:\n",
    "        return n2,mid\n",
    "    elif abs(f1)>abs(f_mid):\n",
    "        return n2,mid\n",
    "    elif abs(f2)>abs(f_mid):\n",
    "        return n1,mid\n",
    "\n",
    "# while abs(n1-n2)>0.1:\n",
    "#     f1=f(a,n1)\n",
    "#     f2=f(a,n2)\n",
    "#     n1,n2=bisection_method(n1,n2,f1,f2)\n",
    "#     n1,n2=false_position_method(n1,n2,f1,f2)\n",
    "#     print(n1,n2,f1,f2)\n",
    "# print('result {}'.format((n1+n2)/2))\n",
    "\n",
    "def newton_rephson(a,n2,f2):\n",
    "    Q=divide(a,[-n2,1])\n",
    "    df2=f(Q,n2)\n",
    "    if df2==0:\n",
    "        return False,n2\n",
    "    n2=n2-f2/df2\n",
    "    return True,n2\n",
    "\n",
    "def secant_method(a,n2,f2):\n",
    "    n3=n2+0.1\n",
    "    f3=f(a,n3)\n",
    "    if abs(f2-f3)<0.1:\n",
    "        return False,(n3+n2)/2\n",
    "    else:\n",
    "        n2=(n3*f2-n2*f3)/(f2-f3)\n",
    "        return True, n2\n",
    "\n",
    "count=0\n",
    "f2=f(a,n2)\n",
    "status=True\n",
    "while status==True and count<10 and f2>0.1:\n",
    "#     status,n2=newton_rephson(a,n2,f2)\n",
    "    status,n2=secant_method(a,n2,f2)\n",
    "    f2=f(a,n2)\n",
    "    count+=1\n",
    "    print(n2,f2,df2)\n",
    "print('result {}'.format(n2))"
   ]
  },
  {
   "cell_type": "markdown",
   "metadata": {
    "collapsed": true
   },
   "source": [
    "### Solution of simultaneous equation (Chapter 4)"
   ]
  },
  {
   "cell_type": "markdown",
   "metadata": {},
   "source": [
    "#### Method-1: Gauss elimination method"
   ]
  },
  {
   "cell_type": "code",
   "execution_count": 1,
   "metadata": {},
   "outputs": [
    {
     "name": "stdout",
     "output_type": "stream",
     "text": [
      "[[  3.   4.   1.  14.]\n",
      " [  6.   7.   2.  26.]\n",
      " [  2.   3.   5.  23.]]\n",
      "[[ 1.  2.  3.]]\n"
     ]
    },
    {
     "data": {
      "text/plain": [
       "array([[ 1.,  2.,  3.]], dtype=float16)"
      ]
     },
     "execution_count": 1,
     "metadata": {},
     "output_type": "execute_result"
    }
   ],
   "source": [
    "import numpy as np\n",
    "\n",
    "# Input\n",
    "# m = int(input('Enter number of equation:\\n'))\n",
    "\n",
    "# coeff=np.zeros((m,m+1),dtype=np.float16)\n",
    "# for i in range(m):\n",
    "#     temp=[float(i) for i in input('Enter coeff for eq:{}\\n'.format(i+1)).split(' ')]\n",
    "#     assert len(temp)==m+1\n",
    "#     coeff[i]=temp\n",
    "    \n",
    "# print(coeff)\n",
    "m=3\n",
    "coeff=np.array([[2,3,5,23],[3,4,1,14],[6,7,2,26]],dtype=np.float16)\n",
    "\n",
    "def swap(coeff,row1,row2,m):\n",
    "    for i in range(m+1):\n",
    "        coeff[row1,i],coeff[row2,i]=coeff[row2,i],coeff[row1,i]\n",
    "\n",
    "def Gauss_elim(coeff,m):\n",
    "    if type(coeff)==list:\n",
    "        coeff=np.array(coeff,dtype=np.float16)\n",
    "    # pivoting\n",
    "    r,c=coeff.shape\n",
    "    lst=[]\n",
    "    for count in range(r):\n",
    "        for i in range(r):\n",
    "            if i in lst:continue\n",
    "            maxm=coeff[i,i]\n",
    "            ind=(i,i)\n",
    "            for j in range(c-1):\n",
    "                if j in lst:continue\n",
    "                if coeff[i,j]>maxm:\n",
    "                    maxm=coeff[i,j]\n",
    "                    ind=(i,j)\n",
    "        if ind[0]!=ind[1]:\n",
    "            swap(coeff,ind[0],ind[1],c-1)\n",
    "        lst.append(ind[1])\n",
    "\n",
    "    print(coeff)\n",
    "\n",
    "    # triangulation\n",
    "    for row1 in range(m-1):\n",
    "        for row2 in range(row1+1,m):\n",
    "            temp=[coeff[row2,row1],coeff[row1,row1]]\n",
    "            for col in range(4):\n",
    "                coeff[row2,col]=coeff[row2,col]-coeff[row1,col]*temp[0]/temp[1]\n",
    "\n",
    "    # print(coeff)\n",
    "\n",
    "    # Generating result\n",
    "    result=np.zeros((1,m),dtype=np.float16)\n",
    "    for row in range(m-1,-1,-1):\n",
    "        temp=coeff[row,m]\n",
    "        for col in range(row,m):\n",
    "            temp-=coeff[row,col]*result[0,col]\n",
    "        temp/=coeff[row,row]\n",
    "        result[0,row]=temp\n",
    "    print(result)\n",
    "    return result\n",
    "\n",
    "Gauss_elim(coeff,m)"
   ]
  },
  {
   "cell_type": "markdown",
   "metadata": {},
   "source": [
    "#### Method-2: Gauss Iterative method"
   ]
  },
  {
   "cell_type": "code",
   "execution_count": 2,
   "metadata": {},
   "outputs": [
    {
     "name": "stdout",
     "output_type": "stream",
     "text": [
      "(2, 1) 7.0\n",
      "(2, 0) 3.0\n",
      "(2, 2) 5.0\n",
      "[[  3.   4.   1.  14.]\n",
      " [  6.   7.   2.  26.]\n",
      " [  2.   3.   5.  23.]]\n",
      "0 [[ 4.66796875 -0.28564453  2.90429688]]\n",
      "1 [[ 4.078125   -0.61083984  3.33398438]]\n",
      "2 [[ 4.3671875  -0.98144531  3.44335938]]\n",
      "3 [[ 4.82421875 -1.40429688  3.51171875]]\n",
      "4 [[ 5.37109375 -1.89160156  3.58789062]]\n",
      "5 [[ 5.98828125 -2.44335938  3.66796875]]\n",
      "6 [[ 6.703125   -3.08007812  3.76953125]]\n",
      "7 [[ 7.515625   -3.80273438  3.875     ]]\n",
      "8 [[ 8.4453125 -4.6328125  4.       ]]\n",
      "9 [[ 9.5078125  -5.58203125  4.1484375 ]]\n",
      "10 [[ 10.71875     -6.66015625   4.30859375]]\n",
      "11 [[ 12.1015625   -7.89453125   4.49609375]]\n",
      "12 [[ 13.6875      -9.3046875    4.70703125]]\n",
      "13 [[ 15.5        -10.921875     4.94921875]]\n",
      "14 [[ 17.578125   -12.765625     5.23046875]]\n",
      "15 [[ 19.953125   -14.8828125    5.55078125]]\n",
      "16 [[ 22.640625  -17.28125     5.9140625]]\n",
      "17 [[ 25.734375   -20.03125      6.32421875]]\n",
      "18 [[ 29.265625   -23.171875     6.79296875]]\n",
      "19 [[ 33.28125   -26.765625    7.3515625]]\n",
      "20 [[ 37.90625   -30.890625    7.9765625]]\n",
      "21 [[ 43.15625  -35.5625     8.671875]]\n",
      "22 [[ 49.21875   -40.9375      9.4765625]]\n",
      "23 [[ 56.09375   -47.0625     10.4140625]]\n",
      "24 [[ 63.96875   -54.0625     11.4609375]]\n",
      "25 [[ 72.9375   -62.0625    12.671875]]\n",
      "26 [[ 83.1875    -71.1875     14.0234375]]\n",
      "27 [[ 94.9375    -81.625      15.6015625]]\n",
      "28 [[ 108.3125    -93.5625     17.421875]]\n",
      "29 [[ 123.5625  -107.1875    19.46875]]\n",
      "30 [[ 141.125   -122.875     21.84375]]\n",
      "31 [[ 161.25     -140.75       24.546875]]\n",
      "32 [[ 184.125   -161.125     27.65625]]\n",
      "33 [[ 210.375    -184.375      31.046875]]\n",
      "34 [[ 240.125   -211.        35.15625]]\n",
      "35 [[ 274.25   -241.375    39.6875]]\n",
      "36 [[ 313.25    -276.25      45.09375]]\n",
      "37 [[ 358. -316.   51.]]\n",
      "38 [[ 409.     -361.5      57.8125]]\n",
      "39 [[ 467.25   -413.5      65.6875]]\n",
      "40 [[ 534.    -472.75    74.625]]\n",
      "41 [[ 610.  -540.5   85. ]]\n",
      "42 [[ 697.5    -618.5      96.8125]]\n",
      "43 [[ 797.5 -707.5  110. ]]\n",
      "44 [[ 911.5    -808.5     125.1875]]\n",
      "45 [[ 1041.    -925.     143.25]]\n",
      "46 [[ 1190.   -1057.     163.25]]\n",
      "47 [[ 1359.    -1208.      185.625]]\n",
      "48 [[ 1555.   -1382.     211.25]]\n",
      "49 [[ 1777.    -1581.      242.375]]\n"
     ]
    },
    {
     "data": {
      "text/plain": [
       "array([[ 1777.   , -1581.   ,   242.375]], dtype=float16)"
      ]
     },
     "execution_count": 2,
     "metadata": {},
     "output_type": "execute_result"
    }
   ],
   "source": [
    "import numpy as np\n",
    "\n",
    "# Input\n",
    "# m = int(input('Enter number of equation:\\n'))\n",
    "\n",
    "# coeff=np.zeros((m,m+1),dtype=np.float16)\n",
    "# for i in range(m):\n",
    "#     temp=[float(i) for i in input('Enter coeff for eq:{}\\n'.format(i+1)).split(' ')]\n",
    "#     assert len(temp)==m+1\n",
    "#     coeff[i]=temp\n",
    "    \n",
    "# print(coeff)\n",
    "m=3\n",
    "coeff=np.array([[2,3,5,23],[3,4,1,14],[6,7,2,26]],dtype=np.float16)\n",
    "\n",
    "def swap(coeff,row1,row2,m):\n",
    "    for i in range(m+1):\n",
    "        coeff[row1,i],coeff[row2,i]=coeff[row2,i],coeff[row1,i]\n",
    "\n",
    "# pivoting\n",
    "def pivot(coeff):\n",
    "    r,c=coeff.shape\n",
    "    lst=[]\n",
    "    for count in range(r):\n",
    "        for i in range(r):\n",
    "            if i in lst:continue\n",
    "            maxm=coeff[i,i]\n",
    "            ind=(i,i)\n",
    "            for j in range(c-1):\n",
    "                if j in lst:continue\n",
    "                if coeff[i,j]>maxm:\n",
    "                    maxm=coeff[i,j]\n",
    "                    ind=(i,j)\n",
    "        print(ind,coeff[ind])\n",
    "        if ind[0]!=ind[1]:\n",
    "            swap(coeff,ind[0],ind[1],c-1)\n",
    "        lst.append(ind[1])\n",
    "    return coeff\n",
    "\n",
    "def Gauss_iter(coeff,m):\n",
    "    if type(coeff)==list:\n",
    "        coeff=np.array(coeff,dtype=np.float16)\n",
    "    coeff=pivot(coeff)\n",
    "    print(coeff)\n",
    "    result1=np.zeros((1,m),dtype=np.float16)\n",
    "    result2=np.zeros((1,m),dtype=np.float16)\n",
    "    count=0\n",
    "    while count<50:\n",
    "        for i in range(m):\n",
    "            temp=coeff[i,m]\n",
    "            for j in range(m):\n",
    "                if j==i:\n",
    "                    continue\n",
    "                temp-=result2[0,j]*coeff[i,j]\n",
    "            temp/=coeff[i,i]\n",
    "            result2[0,i]=temp\n",
    "        print(count,result2)\n",
    "        if np.linalg.norm(result1-result2)<0.01:\n",
    "            break\n",
    "        result1=result2.copy()\n",
    "        count+=1\n",
    "    return result2\n",
    "\n",
    "Gauss_iter(coeff,m)"
   ]
  },
  {
   "cell_type": "markdown",
   "metadata": {},
   "source": [
    "### Integration (Chapter 8)"
   ]
  },
  {
   "cell_type": "markdown",
   "metadata": {},
   "source": [
    "#### Method-1: Trapezoidal rule"
   ]
  },
  {
   "cell_type": "code",
   "execution_count": 71,
   "metadata": {},
   "outputs": [
    {
     "name": "stdout",
     "output_type": "stream",
     "text": [
      "0.010668999999999993\n"
     ]
    }
   ],
   "source": [
    "# input\n",
    "# x=[float(i) for i in input('Enter x-list:\\n').split(' ')]\n",
    "# y=[float(i) for i in input('Enter y-list:\\n').split(' ')]\n",
    "x=[0.25,0.26,0.27,0.28,0.29]\n",
    "y=[0.2474,0.2571,0.2667,0.2764,0.2860]\n",
    "assert len(x)==len(y)\n",
    "i_res=0\n",
    "interval=len(x)-1\n",
    "for i in range(interval):\n",
    "    i_res+=0.5*(y[i]+y[i+1])*(x[i+1]-x[i])\n",
    "print(i_res)"
   ]
  },
  {
   "cell_type": "markdown",
   "metadata": {},
   "source": [
    "#### Simpson's rule"
   ]
  },
  {
   "cell_type": "code",
   "execution_count": 75,
   "metadata": {},
   "outputs": [
    {
     "name": "stdout",
     "output_type": "stream",
     "text": [
      "0.010669333333333343\n"
     ]
    }
   ],
   "source": [
    "# input: assumption 'x' is equally spaced\n",
    "# x=[float(i) for i in input('Enter x-list:\\n').split(' ')]\n",
    "# y=[float(i) for i in input('Enter y-list:\\n').split(' ')]\n",
    "x=[0.25,0.26,0.27,0.28,0.29]\n",
    "y=[0.2474,0.2571,0.2667,0.2764,0.2860]\n",
    "\n",
    "interval=len(x)-1\n",
    "h=x[1]-x[0]\n",
    "for i in range(1,interval-1):\n",
    "    assert x[i+1]-x[i]==h\n",
    "assert len(x)==len(y)\n",
    "\n",
    "i_res=0\n",
    "for i in range(0,interval,2):\n",
    "    i_res+=h*(y[i]+4*y[i+1]+y[i+2])/3\n",
    "print(i_res)"
   ]
  },
  {
   "cell_type": "markdown",
   "metadata": {},
   "source": [
    "### Least square approximation of the function (Chapter 6)"
   ]
  },
  {
   "cell_type": "code",
   "execution_count": 3,
   "metadata": {},
   "outputs": [
    {
     "name": "stdout",
     "output_type": "stream",
     "text": [
      "[[7, 35, 227, 70], [35, 227, 1655, 453], [227, 1655, 12851, 3315]]\n",
      "[[  7.00000000e+00   3.50000000e+01   2.27000000e+02   7.00000000e+01]\n",
      " [  3.50000000e+01   2.27000000e+02   1.65500000e+03   4.53000000e+02]\n",
      " [  2.27000000e+02   1.65500000e+03   1.28480000e+04   3.31600000e+03]]\n",
      "[[ nan  nan  nan]]\n"
     ]
    },
    {
     "name": "stderr",
     "output_type": "stream",
     "text": [
      "C:\\Users\\DELL\\Anaconda3\\lib\\site-packages\\ipykernel_launcher.py:47: RuntimeWarning: overflow encountered in half_scalars\n",
      "C:\\Users\\DELL\\Anaconda3\\lib\\site-packages\\ipykernel_launcher.py:56: RuntimeWarning: invalid value encountered in half_scalars\n"
     ]
    },
    {
     "data": {
      "text/plain": [
       "array([[ nan,  nan,  nan]], dtype=float16)"
      ]
     },
     "execution_count": 3,
     "metadata": {},
     "output_type": "execute_result"
    }
   ],
   "source": [
    "x=[1,2,4,5,6,8,9]\n",
    "y=[2,5,7,10,12,15,19]\n",
    "order=2\n",
    "n=len(x)\n",
    "\n",
    "eq_lst=[]\n",
    "for eq in range(order+1):\n",
    "    temp=[]\n",
    "    if eq==0:\n",
    "        for power in range(order+1):\n",
    "            temp.append(sum([pow(base,power) for base in x]))\n",
    "    else:\n",
    "        temp=eq_lst[-1][1:-1]\n",
    "        temp.append(sum([pow(base,eq+order) for base in x]))\n",
    "    temp.append(sum([pow(base,eq)*out for base,out in zip(x,y)]))\n",
    "    eq_lst.append(temp)\n",
    "print(eq_lst)\n",
    "Gauss_elim(eq_lst,order+1)"
   ]
  },
  {
   "cell_type": "code",
   "execution_count": 4,
   "metadata": {
    "scrolled": true
   },
   "outputs": [
    {
     "name": "stdout",
     "output_type": "stream",
     "text": [
      "[[7.0, 0.0, 52.0, 70.0], [0.0, 52.0, 0.0, 103.0], [52.0, 0.0, 676.0, 535.0]]\n",
      "[[   7.    0.   52.   70.]\n",
      " [   0.   52.    0.  103.]\n",
      " [  52.    0.  676.  535.]]\n",
      "[[ 9.6171875   1.98046875  0.05175781]]\n",
      "5.0 1 2 -10.0 1.4629 0.051758\n",
      "5.0 0 2 25.0 10.914 0.051758\n",
      "[[ 10.9140625    1.46289062   0.05175781]]\n",
      "5.0 0 1 -5.0 1.0117 1.9805\n",
      "[[ 1.01171875  1.46289062  0.05175781]]\n"
     ]
    }
   ],
   "source": [
    "x=[1,2,4,5,6,8,9]\n",
    "y=[2,5,7,10,12,15,19]\n",
    "order=2\n",
    "n=len(x)\n",
    "mean=sum(x)/n\n",
    "x=[i-mean for i in x]\n",
    "\n",
    "eq_lst=[]\n",
    "for eq in range(order+1):\n",
    "    temp=[]\n",
    "    if eq==0:\n",
    "        for power in range(order+1):\n",
    "            temp.append(sum([pow(base,power) for base in x]))\n",
    "    else:\n",
    "        temp=eq_lst[-1][1:-1]\n",
    "        temp.append(sum([pow(base,eq+order) for base in x]))\n",
    "    temp.append(sum([pow(base,eq)*out for base,out in zip(x,y)]))\n",
    "    eq_lst.append(temp)\n",
    "print(eq_lst)\n",
    "coeff=Gauss_elim(eq_lst,order+1)\n",
    "\n",
    "res=coeff.copy()\n",
    "for o in range(order,0,-1):\n",
    "    temp=1\n",
    "    for i in range(o-1,-1,-1):\n",
    "        temp*=(-mean)*(i+1)/(o-i)\n",
    "        res[0,i]+=temp*coeff[0,o]\n",
    "        print(mean,i,o,temp,res[0,i],coeff[0,o])\n",
    "    print(res)"
   ]
  },
  {
   "cell_type": "markdown",
   "metadata": {},
   "source": [
    "## Interpolation (Chapter 5)"
   ]
  },
  {
   "cell_type": "markdown",
   "metadata": {},
   "source": [
    "### Lagrange Polynomial"
   ]
  },
  {
   "cell_type": "code",
   "execution_count": 11,
   "metadata": {},
   "outputs": [
    {
     "name": "stdout",
     "output_type": "stream",
     "text": [
      "6.0\n"
     ]
    }
   ],
   "source": [
    "x=[1.5,3,6]\n",
    "y=[-0.25,2,20]\n",
    "\n",
    "x_res,y_res=4,0\n",
    "n=len(x)\n",
    "assert len(x)==len(y)\n",
    "for i in range(n):\n",
    "    temp=y[i]\n",
    "    for j in range(n):\n",
    "        if i==j:continue\n",
    "        temp*=(x_res-x[j])/(x[i]-x[j])\n",
    "    y_res+=temp\n",
    "print(y_res)"
   ]
  },
  {
   "cell_type": "markdown",
   "metadata": {},
   "source": [
    "### Divided difference (forward)"
   ]
  },
  {
   "cell_type": "code",
   "execution_count": 28,
   "metadata": {},
   "outputs": [
    {
     "name": "stdout",
     "output_type": "stream",
     "text": [
      "difference_table_coeff:[35, 0.7, 0.045000000000000005, 0.00016666666666666658, -4.166666666666664e-06, -1.1858461261560206e-22, 4.166666666666672e-09]\n",
      "result:36.7567104\n"
     ]
    }
   ],
   "source": [
    "x=[1921,1931,1941,1951,1961,1971,1981]\n",
    "y=[35,42,58,84,120,165,220]\n",
    "\n",
    "x_res,y_res=1925,0\n",
    "n=len(x)\n",
    "diff_table=y.copy()\n",
    "\n",
    "# creating the difference table\n",
    "for i in range(n):\n",
    "    for j in range(n-1,i,-1):\n",
    "        diff_table[j]=(diff_table[j]-diff_table[j-1])/(x[j]-x[j-i-1])\n",
    "print('difference_table_coeff:{}'.format(diff_table))\n",
    "\n",
    "# formulating the equation\n",
    "for i in range(1,n):\n",
    "    for j in range(i,n):\n",
    "        diff_table[j]*=(x_res-x[i-1])\n",
    "#     print(diff_table)\n",
    "    \n",
    "print('result:{}'.format(sum(diff_table)))"
   ]
  },
  {
   "cell_type": "markdown",
   "metadata": {},
   "source": [
    "### Cubic spline"
   ]
  },
  {
   "cell_type": "code",
   "execution_count": 46,
   "metadata": {},
   "outputs": [
    {
     "name": "stdout",
     "output_type": "stream",
     "text": [
      "actual equation coefficients:\n",
      "[[   1.    4.    1.    0.    0.  192.]\n",
      " [   0.    1.    4.    1.    0. -186.]\n",
      " [   0.    0.    1.    4.    1.  126.]]\n",
      "[[   4.    1.    0.  182.]\n",
      " [   1.    4.    1. -186.]\n",
      " [   0.    1.    4.  116.]]\n",
      "[[   4.    1.    0.  182.]\n",
      " [   1.    4.    1. -186.]\n",
      " [   0.    1.    4.  116.]]\n",
      "[[ 64.125   -74.375    47.59375]]\n",
      "[[ 64.125   -74.375    47.59375]]\n"
     ]
    }
   ],
   "source": [
    "x=[1,2,3,4,5]\n",
    "y=[30,15,32,18,25]\n",
    "\n",
    "assert len(x)==len(y)\n",
    "n=len(x)\n",
    "\n",
    "coeff=np.zeros((n-2,n+1),dtype=np.float16)\n",
    "for i in range(n-2):\n",
    "    coeff[i,i:i+3]=[x[i+1]-x[i],2*(x[i+2]-x[i]),x[i+2]-x[i+1]]\n",
    "    coeff[i,-1]=6*((y[i+2]-y[i+1])/(x[i+2]-x[i+1])-(y[i+1]-y[i])/(x[i+1]-x[i]))\n",
    "\n",
    "print('actual equation coefficients:\\n{}'.format(coeff))\n",
    "\n",
    "lst=list(range(n))\n",
    "ddiff=np.zeros((n,1),dtype=np.float16)\n",
    "# for i in range(2):\n",
    "#     ind,val=[float(i) for i in input('enter index and value').split(' ')]\n",
    "#     ind=int(ind)\n",
    "for ind,val in [(0,10),(4,10)]:\n",
    "    assert ind in lst\n",
    "    for i in range(n-2):\n",
    "        coeff[i,-1]-=(coeff[i,ind]*val)\n",
    "    ddiff[ind,0]=val\n",
    "    lst.remove(ind)\n",
    "\n",
    "lst.append(n)\n",
    "coeff=coeff[:,lst]\n",
    "print(coeff)\n",
    "dcoeff=Gauss_elim(coeff,n-2)\n",
    "print(dcoeff)\n",
    "lst.remove(n)\n",
    "for i,j in zip(lst,dcoeff[0]):\n",
    "    ddiff[i,0]=j\n",
    "    \n",
    "def f(x_val,i1,i2,ddiff,x,y):\n",
    "    return (ddiff[i1]*(x_val-x[i2])**3/(6*(x[i1]-x[i2]))+ddiff[i2]*(x_val-x[i1])**3/(6*(x[i2]-x[i1]))+\n",
    "            (y[i2]/(x[i2]-x[i1])-ddiff[i2]*(x[i2]-x[i1])/6)*(x_val-x[i1])+\n",
    "            (y[i1]/(x[i1]-x[i2])-ddiff[i1]*(x[i1]-x[i2])/6)*(x_val-x[i2]))"
   ]
  },
  {
   "cell_type": "code",
   "execution_count": 47,
   "metadata": {},
   "outputs": [
    {
     "data": {
      "text/plain": [
       "array([ 30.], dtype=float16)"
      ]
     },
     "execution_count": 47,
     "metadata": {},
     "output_type": "execute_result"
    }
   ],
   "source": [
    "f(3.5,3,4,ddiff,x,y)"
   ]
  }
 ],
 "metadata": {
  "kernelspec": {
   "display_name": "Python 3",
   "language": "python",
   "name": "python3"
  },
  "language_info": {
   "codemirror_mode": {
    "name": "ipython",
    "version": 3
   },
   "file_extension": ".py",
   "mimetype": "text/x-python",
   "name": "python",
   "nbconvert_exporter": "python",
   "pygments_lexer": "ipython3",
   "version": "3.6.1"
  }
 },
 "nbformat": 4,
 "nbformat_minor": 2
}
